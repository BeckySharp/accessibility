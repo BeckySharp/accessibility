{
 "cells": [
  {
   "cell_type": "code",
   "execution_count": 1,
   "id": "1e77c152",
   "metadata": {},
   "outputs": [],
   "source": [
    "import csv\n",
    "datafile = 'data/write_in_responses.tsv'\n",
    "\n",
    "lines = []\n",
    "with open(datafile) as f:\n",
    "    reader = csv.reader(f, delimiter='\\t')\n",
    "    header = next(reader)\n",
    "    for line in reader:\n",
    "        if len(line) != 13:\n",
    "            print(len(line))\n",
    "        lines.append(line)       "
   ]
  },
  {
   "cell_type": "code",
   "execution_count": 2,
   "id": "0fa4bb48",
   "metadata": {},
   "outputs": [
    {
     "name": "stdout",
     "output_type": "stream",
     "text": [
      "['7', '9', '10', '11', '12', '13', '14', '17', '18', '19', '20', '21', '23']\n",
      "['If you do have an accessibility need(s) or impairment(s), how do you manage the impact it has on how you receive information in poster or oral presentations? ', 'When attending a poster session, what is your goal in receiving information? Please rate your priority in learning about each of the of the following aspects of the study on a scale of 1 to 5:', 'Traditional layout: Please rate how this poster design impacts your ability to gain information on a scale from 1 to 5. ', '#BetterPoster layout: Please rate how this poster design impacts your ability to gain information on a scale from 1 to 5. ', 'Infographic layout eaxample 1: Please rate how this poster design impacts your ability to gain information on a scale from 1 to 5.', 'Infographic layout eaxample 2: Please rate how this poster design impacts your ability to gain information on a scale from 1 to 5. ', 'What improvements, if any, would you like to see implemented or standardized for posters to improve accessibility of information?', 'When attending an oral presentation, what is your goal in receiving information? Please rate your priority in learning about each of the of the following aspects of the study on a scale of 1 to 5:', 'A traditional oral presentation: Please rate how this presentation format impacts your ability to gain information on a scale from 1 to 5.', 'TED Talk style oral presentation: Please rate how this presentation format impacts your ability to gain information on a scale from 1 to 5.', 'Interview panel style oral presentation: Please rate how this presentation format impacts your ability to gain information on a scale from 1 to 5.', 'What improvements, if any, would you like to see implemented or standardized for oral presentations to improve accessibility of information?', 'What improvements, if any, would you like to see implemented or standardized for conference/congress meeting spaces to improve accessibility of information?']\n"
     ]
    }
   ],
   "source": [
    "import re\n",
    "pattern = 'Question ([0-9]+) - (.+)'\n",
    "question_numbers = []\n",
    "questions = []\n",
    "for elem in header:\n",
    "    matched = re.findall(pattern, elem)[0]\n",
    "    question_numbers.append(matched[0])\n",
    "    questions.append(int(matched[1])\n",
    "    \n",
    "print(question_numbers)\n",
    "print(questions)"
   ]
  },
  {
   "cell_type": "code",
   "execution_count": 3,
   "id": "8c09a474",
   "metadata": {},
   "outputs": [
    {
     "data": {
      "text/plain": [
       "dict_keys(['19', '20', '10', '11', '14', '18', '21', '12', '13', '23', '7', '17', '9'])"
      ]
     },
     "execution_count": 3,
     "metadata": {},
     "output_type": "execute_result"
    }
   ],
   "source": [
    "from collections import defaultdict, namedtuple\n",
    "\n",
    "Response = namedtuple('Response', 'row_id text')\n",
    "\n",
    "question_answers = defaultdict(list)\n",
    "# may want to keep the information from the people to correlate with \n",
    "# the data in the other questions (e.g., if the person had a visual \n",
    "# limitation, are they more likely to request visual accomodation?)\n",
    "for row_id, line in enumerate(lines):\n",
    "    for i, resp in enumerate(line):\n",
    "        if resp:\n",
    "            question_answers[question_numbers[i]].append(Response(row_id=row_id, text=resp))\n",
    "\n",
    "question_answers.keys()"
   ]
  },
  {
   "cell_type": "code",
   "execution_count": 4,
   "id": "e234f645",
   "metadata": {},
   "outputs": [],
   "source": [
    "from collections import Counter\n",
    "import string\n",
    "\n",
    "from sklearn.feature_extraction.text import ENGLISH_STOP_WORDS\n",
    "stops = stops = {\n",
    "    \"a\",\n",
    "    \"about\",\n",
    "    \"again\",\n",
    "    \"am\",\n",
    "    \"an\",\n",
    "    \"are\",\n",
    "    \"and\",\n",
    "    \"as\",\n",
    "    \"at\",\n",
    "    \"be\",\n",
    "    \"both\",\n",
    "    \"but\",\n",
    "    \"by\",\n",
    "    \"can\",\n",
    "    \"could\",\n",
    "    \"did\",\n",
    "    \"do\",\n",
    "    \"does\",\n",
    "    \"doing\",\n",
    "    \"during\",\n",
    "    \"each\",\n",
    "    \"for\",\n",
    "    \"from\",\n",
    "    \"further\",\n",
    "    \"had\",\n",
    "    \"has\",\n",
    "    \"have\",\n",
    "    \"having\",\n",
    "    \"he\",\n",
    "    \"he'd\",\n",
    "    \"he'll\",\n",
    "    \"he's\",\n",
    "    \"her\",\n",
    "    \"here\",\n",
    "    \"here's\",\n",
    "    \"hers\",\n",
    "    \"herself\",\n",
    "    \"him\",\n",
    "    \"himself\",\n",
    "    \"his\",\n",
    "    \"how\",\n",
    "    \"how's\",\n",
    "    \"i\",\n",
    "    \"i'd\",\n",
    "    \"i'll\",\n",
    "    \"i'm\",\n",
    "    \"i've\",\n",
    "    \"if\",\n",
    "    \"in\",\n",
    "    \"into\",\n",
    "    \"is\",\n",
    "    \"it\",\n",
    "    \"it's\",\n",
    "    \"its\",\n",
    "    \"itself\",\n",
    "    \"let's\",\n",
    "    \"me\",\n",
    "    \"more\",\n",
    "    \"most\",\n",
    "    \"my\",\n",
    "    \"myself\",\n",
    "    \"no\",\n",
    "    \"nor\",\n",
    "    \"not\",\n",
    "    \"of\",\n",
    "    \"or\",\n",
    "    \"other\",\n",
    "    \"ought\",\n",
    "    \"our\",\n",
    "    \"ours\tourselves\",\n",
    "    \"out\",\n",
    "    \"own\",\n",
    "    \"shan't\",\n",
    "    \"she\",\n",
    "    \"she'd\",\n",
    "    \"she'll\",\n",
    "    \"she's\",\n",
    "    \"should\",\n",
    "    \"so\",\n",
    "    \"some\",\n",
    "    \"such\",\n",
    "    \"than\",\n",
    "    \"that\",\n",
    "    \"that's\",\n",
    "    \"the\",\n",
    "    \"their\",\n",
    "    \"theirs\",\n",
    "    \"them\",\n",
    "    \"themselves\",\n",
    "    \"then\",\n",
    "    \"there\",\n",
    "    \"there's\",\n",
    "    \"these\",\n",
    "    \"they\",\n",
    "    \"they'd\",\n",
    "    \"they'll\",\n",
    "    \"they're\",\n",
    "    \"they've\",\n",
    "    \"this\",\n",
    "    \"those\",\n",
    "    \"to\",\n",
    "    \"too\",\n",
    "    \"up\",\n",
    "    \"very\",\n",
    "    \"was\",\n",
    "    \"wasn't\",\n",
    "    \"we\",\n",
    "    \"we'd\",\n",
    "    \"we'll\",\n",
    "    \"we're\",\n",
    "    \"we've\",\n",
    "    \"were\",\n",
    "    \"weren't\",\n",
    "    \"what\",\n",
    "    \"what's\",\n",
    "    \"when\",\n",
    "    \"when's\",\n",
    "    \"where\",\n",
    "    \"where's\",\n",
    "    \"which\",\n",
    "    \"while\",\n",
    "    \"who\",\n",
    "    \"who's\",\n",
    "    \"whom\",\n",
    "    \"why\",\n",
    "    \"why's\",\n",
    "    \"with\",\n",
    "    \"won't\",\n",
    "    \"would\",\n",
    "    \"you\",\n",
    "    \"you'd\",\n",
    "    \"you'll\",\n",
    "    \"you're\",\n",
    "    \"you've\",\n",
    "    \"your\",\n",
    "    \"yours\",\n",
    "    \"yourself\",\n",
    "    \"yourselves\",\n",
    "}\n",
    "\n",
    "\n",
    "\n",
    "def ngram_counter(n: int, texts: list[str], lower: bool = True) -> Counter[str]:\n",
    "    c = Counter()\n",
    "    for text in texts:\n",
    "        if lower:\n",
    "            text = text.lower()\n",
    "        for s in sliding_ngram_windows(text, n):\n",
    "            s = ' '.join(s)\n",
    "            c[s] += 1\n",
    "    return c\n",
    "\n",
    "\n",
    "def prune_stop_tokens(toks: list[str]) -> list[str]:\n",
    "    return [t for t in toks if t.lower() not in stops]\n",
    "\n",
    "\n",
    "def sliding_ngram_windows(s: str, n: int, keep_punct: bool = False) -> list[list[str]]:\n",
    "    toks = strip_and_split(s) if not keep_punct else s.split()\n",
    "    pruned = prune_stop_tokens(toks)\n",
    "    return [pruned[i : i + n] for i in range(0, len(pruned) - n + 1)]\n",
    "\n",
    "\n",
    "def strip_and_split(s: str) -> list[str]:\n",
    "    return strip_punct(s).split()\n",
    "\n",
    "\n",
    "def strip_punct(s: str) -> str:\n",
    "    return s.translate(str.maketrans('', '', string.punctuation))\n"
   ]
  },
  {
   "cell_type": "code",
   "execution_count": 5,
   "id": "cf628704",
   "metadata": {},
   "outputs": [],
   "source": [
    "from sentence_transformers import SentenceTransformer\n",
    "from sklearn.cluster import AgglomerativeClustering\n",
    "import nltk\n",
    "import numpy as np\n",
    "\n",
    "from sklearn import metrics\n",
    "\n",
    "embedder = SentenceTransformer('all-MiniLM-L6-v2')\n",
    "\n",
    "\n",
    "def create_sentence_corpus(passages):\n",
    "    corpus = []\n",
    "    for text in passages:\n",
    "        for sent in nltk.sent_tokenize(text):\n",
    "            corpus.append(sent)\n",
    "    return corpus\n",
    "\n",
    "\n",
    "def embed_corpus(corp):\n",
    "    embs = embedder.encode(corp)\n",
    "    # Normalize the embeddings to unit length\n",
    "    embs = embs /  np.linalg.norm(embs, axis=1, keepdims=True)\n",
    "    return embs\n",
    "\n",
    "\n",
    "def agg_cluster(sents, embeds, dist_thresh, linkage):\n",
    "    clustering_model = AgglomerativeClustering(n_clusters=None, metric='cosine', linkage=linkage, distance_threshold=dist_thresh)\n",
    "    clustering_model.fit(embeds)\n",
    "    cluster_assignment = clustering_model.labels_\n",
    "\n",
    "    clustered_sentences = defaultdict(list)\n",
    "    clustered_embeddings = defaultdict(list)\n",
    "    for sentence_id, cluster_id in enumerate(cluster_assignment):\n",
    "        if True:\n",
    "            clustered_sentences[cluster_id].append(sents[sentence_id])\n",
    "            clustered_embeddings[cluster_id].append(embeds[sentence_id])\n",
    "    \n",
    "    print(metrics.silhouette_score(embeds, cluster_assignment, metric='cosine'))\n",
    "    \n",
    "    return clustered_sentences, clustered_embeddings\n",
    "\n",
    "def mean_shift_cluster(sents, embeds):\n",
    "    from sklearn.cluster import MeanShift\n",
    "    \n",
    "    clustering_model = MeanShift(cluster_all=False)\n",
    "    clustering_model.fit(embeds)\n",
    "    cluster_assignment = clustering_model.labels_\n",
    "    \n",
    "    clustered_sentences = defaultdict(list)\n",
    "    clustered_embeddings = defaultdict(list)\n",
    "    for sentence_id, cluster_id in enumerate(cluster_assignment):\n",
    "        if True:\n",
    "            clustered_sentences[cluster_id].append(sents[sentence_id])\n",
    "            clustered_embeddings[cluster_id].append(embeds[sentence_id])\n",
    "    \n",
    "    print(metrics.silhouette_score(embeds, cluster_assignment, metric='cosine'))\n",
    "    \n",
    "    return clustered_sentences, clustered_embeddings\n",
    "    \n"
   ]
  },
  {
   "cell_type": "code",
   "execution_count": 12,
   "id": "78b67493",
   "metadata": {},
   "outputs": [],
   "source": [
    "from sklearn.metrics.pairwise import cosine_similarity\n",
    "from functools import partial\n",
    "\n",
    "def avg_cosine_sim(cluster_embeddings):\n",
    "    sims = []\n",
    "    if len(cluster_embeddings) == 1:\n",
    "        return 0.0\n",
    "    for i, emb in enumerate(cluster_embeddings):\n",
    "        for j, emb2 in enumerate(cluster_embeddings):\n",
    "            if i != j:\n",
    "                sims.append(cosine_similarity(np.reshape(emb, (1, -1)), np.reshape(emb2, (1, -1))))\n",
    "    return sum(sims) / len(sims)\n",
    "\n",
    "def score_clusters(clustered_sentences, clustered_embeddings):\n",
    "    scored = []\n",
    "    for cluster_id, embs in clustered_embeddings.items():\n",
    "        scored.append((cluster_id, avg_cosine_sim(embs), clustered_sentences[cluster_id]))\n",
    "    return scored\n",
    "\n",
    "def display_scored_clusters(scored_clusters):\n",
    "    for (cluster_id, score, cluster) in sorted(scored_clusters, key=lambda tup: tup[1], reverse=True):\n",
    "        print(\"Cluster \", cluster_id+1)\n",
    "        print(\"Avg cosine sim: \", score)\n",
    "        print(cluster)\n",
    "        print(\"\")\n",
    "\n",
    "def cluster(corpus, embeddings, dist_thresh, display=True, linkage='complete', cluster_method='agg'):\n",
    "    cluster_func = None\n",
    "    if cluster_method == 'agg':\n",
    "        cluster_func = partial(agg_cluster, dist_thresh=dist_thresh, linkage=linkage)\n",
    "    elif cluster_method == 'meanshift':\n",
    "        cluster_func = mean_shift_cluster\n",
    "        \n",
    "    \n",
    "    clustered_sentences, clustered_embeddings = cluster_func(sents=corpus, embeds=embeddings)\n",
    "    scored = score_clusters(clustered_sentences, clustered_embeddings)\n",
    "    if display:\n",
    "        display_scored_clusters(scored)\n",
    "    return scored\n"
   ]
  },
  {
   "cell_type": "code",
   "execution_count": 2,
   "id": "b8006484",
   "metadata": {},
   "outputs": [
    {
     "name": "stderr",
     "output_type": "stream",
     "text": [
      "/Users/sharpr1/.virtualenvs/lex-ml/lib/python3.9/site-packages/tqdm/auto.py:22: TqdmWarning: IProgress not found. Please update jupyter and ipywidgets. See https://ipywidgets.readthedocs.io/en/stable/user_install.html\n",
      "  from .autonotebook import tqdm as notebook_tqdm\n"
     ]
    }
   ],
   "source": [
    "from pathlib import Path\n",
    "from transformers import pipeline\n",
    "from tqdm import tqdm\n",
    "\n",
    "summarizer = pipeline(\"summarization\", model='knkarthick/MEETING_SUMMARY')\n",
    "\n",
    "def summarize(text):\n",
    "    num_toks = len(text.split(' '))\n",
    "    summary = summarizer(text, max_length=30)\n",
    "    return summary\n",
    "\n",
    "def create_summaries(scored):\n",
    "    summaries = []\n",
    "    sorted_clusters = sorted(scored, key=lambda tup: tup[1], reverse=True)\n",
    "    for i in tqdm(range(0, len(scored)), desc =\"Summarizing clusters\"):\n",
    "        cluster_sents = sorted_clusters[i][2]\n",
    "        try:\n",
    "            summaries.append(summarize(' '.join(cluster_sents)))\n",
    "        except:\n",
    "            summaries.append('ERROR: was unable to summarize')\n",
    "    return summaries\n",
    "    \n",
    "def export_review_file(fn, num_responses, scored, summaries):\n",
    "    with open(fn, 'w') as f:\n",
    "        print(f'Number of responses to the question: {num_responses}', file=f)\n",
    "        print(f'Number of clusters found: {len(scored)}', file=f)\n",
    "        more_than_one = [x for x in scored if len(x[2]) > 1]\n",
    "        print(f'Number of clusters with more than one sentence...: {len(more_than_one)}\\n', file=f)\n",
    "        for i, (cluster_id, score, cluster) in enumerate(sorted(scored, key=lambda tup: tup[1], reverse=True)):\n",
    "            print(f\"Cluster {cluster_id+1}\\n\", file=f)\n",
    "            print(f\"Avg cosine similarity of this cluster: {score}\", file=f)\n",
    "            print(f\"Number of sentences in this cluster: {len(cluster)}\\n\", file=f)\n",
    "            print(\"Cluster sentences, in no particular order:\", file=f)\n",
    "            for sent in cluster:\n",
    "                print(f'\\t{sent}', file=f)\n",
    "            summary = summaries[i]\n",
    "            print(f\"\\nML Cluster Summary: {summary}\", file=f)\n",
    "            print(\"\\n\\n--------------------------------\\n\\n\", file=f)\n",
    "\n",
    "\n"
   ]
  },
  {
   "cell_type": "code",
   "execution_count": 25,
   "id": "1d1fb078-32b3-44ff-9d3a-c3420e9426dd",
   "metadata": {
    "tags": []
   },
   "outputs": [],
   "source": [
    "def sentence_level_analysis(question_number, corpus, dist_thresh, linkage, cluster_method='agg'):\n",
    "    num_responses = len(corpus)\n",
    "    corpus = create_sentence_corpus(corpus)\n",
    "    corpus_embeddings = embed_corpus(corpus)\n",
    "\n",
    "    scored_curr = cluster(corpus, corpus_embeddings, dist_thresh, display=False, linkage=linkage, cluster_method=cluster_method)\n",
    "    summaries_curr = create_summaries(scored_curr)             \n",
    "\n",
    "    outdir = Path('/Users/sharpr1/data/accessibility') \n",
    "    outfile = outdir / f'clusters_for_question_{question_number}_sentence_level_{cluster_method}_{linkage}_{dist_thresh}.txt'\n",
    "    export_review_file(outfile, num_responses, scored_curr, summaries_curr)"
   ]
  },
  {
   "cell_type": "code",
   "execution_count": 10,
   "id": "795125e8",
   "metadata": {},
   "outputs": [
    {
     "data": {
      "text/plain": [
       "dict_keys(['19', '20', '10', '11', '14', '18', '21', '12', '13', '23', '7', '17', '9'])"
      ]
     },
     "execution_count": 10,
     "metadata": {},
     "output_type": "execute_result"
    }
   ],
   "source": [
    "question_answers.keys()"
   ]
  },
  {
   "cell_type": "code",
   "execution_count": 27,
   "id": "b60754b5-869f-4fa2-9ba6-34073a7485f7",
   "metadata": {
    "tags": []
   },
   "outputs": [
    {
     "name": "stdout",
     "output_type": "stream",
     "text": [
      "Processing responses for question 19\n",
      "0.12319375\n"
     ]
    },
    {
     "name": "stderr",
     "output_type": "stream",
     "text": [
      "Summarizing clusters:   0%|                                                                                            | 0/50 [00:00<?, ?it/s]Your max_length is set to 30, but you input_length is only 29. You might consider decreasing max_length manually, e.g. summarizer('...', max_length=14)\n",
      "Summarizing clusters:  32%|██████████████████████████▌                                                        | 16/50 [00:31<01:04,  1.89s/it]Your max_length is set to 30, but you input_length is only 20. You might consider decreasing max_length manually, e.g. summarizer('...', max_length=10)\n",
      "Summarizing clusters:  44%|████████████████████████████████████▌                                              | 22/50 [00:45<01:06,  2.38s/it]Your max_length is set to 30, but you input_length is only 21. You might consider decreasing max_length manually, e.g. summarizer('...', max_length=10)\n",
      "Summarizing clusters:  50%|█████████████████████████████████████████▌                                         | 25/50 [00:50<00:51,  2.05s/it]Your max_length is set to 30, but you input_length is only 18. You might consider decreasing max_length manually, e.g. summarizer('...', max_length=9)\n",
      "Summarizing clusters:  70%|██████████████████████████████████████████████████████████                         | 35/50 [01:10<00:30,  2.04s/it]Your max_length is set to 30, but you input_length is only 24. You might consider decreasing max_length manually, e.g. summarizer('...', max_length=12)\n",
      "Summarizing clusters:  78%|████████████████████████████████████████████████████████████████▋                  | 39/50 [01:15<00:17,  1.59s/it]Your max_length is set to 30, but you input_length is only 9. You might consider decreasing max_length manually, e.g. summarizer('...', max_length=4)\n",
      "Summarizing clusters:  80%|██████████████████████████████████████████████████████████████████▍                | 40/50 [01:17<00:15,  1.54s/it]Your max_length is set to 30, but you input_length is only 8. You might consider decreasing max_length manually, e.g. summarizer('...', max_length=4)\n",
      "Summarizing clusters:  82%|████████████████████████████████████████████████████████████████████               | 41/50 [01:18<00:12,  1.37s/it]Your max_length is set to 30, but you input_length is only 8. You might consider decreasing max_length manually, e.g. summarizer('...', max_length=4)\n",
      "Summarizing clusters:  84%|█████████████████████████████████████████████████████████████████████▋             | 42/50 [01:19<00:10,  1.36s/it]Your max_length is set to 30, but you input_length is only 10. You might consider decreasing max_length manually, e.g. summarizer('...', max_length=5)\n",
      "Summarizing clusters:  86%|███████████████████████████████████████████████████████████████████████▍           | 43/50 [01:20<00:08,  1.27s/it]Your max_length is set to 30, but you input_length is only 15. You might consider decreasing max_length manually, e.g. summarizer('...', max_length=7)\n",
      "Summarizing clusters:  88%|█████████████████████████████████████████████████████████████████████████          | 44/50 [01:21<00:07,  1.28s/it]Your max_length is set to 30, but you input_length is only 16. You might consider decreasing max_length manually, e.g. summarizer('...', max_length=8)\n",
      "Summarizing clusters:  90%|██████████████████████████████████████████████████████████████████████████▋        | 45/50 [01:23<00:06,  1.31s/it]Your max_length is set to 30, but you input_length is only 10. You might consider decreasing max_length manually, e.g. summarizer('...', max_length=5)\n",
      "Summarizing clusters:  92%|████████████████████████████████████████████████████████████████████████████▎      | 46/50 [01:24<00:05,  1.25s/it]Your max_length is set to 30, but you input_length is only 15. You might consider decreasing max_length manually, e.g. summarizer('...', max_length=7)\n",
      "Summarizing clusters:  94%|██████████████████████████████████████████████████████████████████████████████     | 47/50 [01:25<00:03,  1.20s/it]Your max_length is set to 30, but you input_length is only 24. You might consider decreasing max_length manually, e.g. summarizer('...', max_length=12)\n",
      "Summarizing clusters:  96%|███████████████████████████████████████████████████████████████████████████████▋   | 48/50 [01:27<00:02,  1.46s/it]Your max_length is set to 30, but you input_length is only 8. You might consider decreasing max_length manually, e.g. summarizer('...', max_length=4)\n",
      "Summarizing clusters:  98%|█████████████████████████████████████████████████████████████████████████████████▎ | 49/50 [01:28<00:01,  1.35s/it]Your max_length is set to 30, but you input_length is only 3. You might consider decreasing max_length manually, e.g. summarizer('...', max_length=1)\n",
      "Summarizing clusters: 100%|███████████████████████████████████████████████████████████████████████████████████| 50/50 [01:29<00:00,  1.79s/it]\n"
     ]
    },
    {
     "name": "stdout",
     "output_type": "stream",
     "text": [
      "Processing responses for question 20\n",
      "0.1191813\n"
     ]
    },
    {
     "name": "stderr",
     "output_type": "stream",
     "text": [
      "Summarizing clusters:   0%|                                                                                            | 0/56 [00:00<?, ?it/s]Your max_length is set to 30, but you input_length is only 24. You might consider decreasing max_length manually, e.g. summarizer('...', max_length=12)\n",
      "Summarizing clusters:   2%|█▌                                                                                  | 1/56 [00:01<01:06,  1.22s/it]Your max_length is set to 30, but you input_length is only 20. You might consider decreasing max_length manually, e.g. summarizer('...', max_length=10)\n",
      "Summarizing clusters:   5%|████▌                                                                               | 3/56 [00:03<01:09,  1.30s/it]Your max_length is set to 30, but you input_length is only 22. You might consider decreasing max_length manually, e.g. summarizer('...', max_length=11)\n",
      "Summarizing clusters:  21%|█████████████████▊                                                                 | 12/56 [00:19<01:13,  1.67s/it]Your max_length is set to 30, but you input_length is only 21. You might consider decreasing max_length manually, e.g. summarizer('...', max_length=10)\n",
      "Summarizing clusters:  41%|██████████████████████████████████                                                 | 23/56 [00:40<01:07,  2.03s/it]Your max_length is set to 30, but you input_length is only 28. You might consider decreasing max_length manually, e.g. summarizer('...', max_length=14)\n",
      "Summarizing clusters:  54%|████████████████████████████████████████████▍                                      | 30/56 [00:54<00:46,  1.78s/it]Your max_length is set to 30, but you input_length is only 15. You might consider decreasing max_length manually, e.g. summarizer('...', max_length=7)\n",
      "Summarizing clusters:  57%|███████████████████████████████████████████████▍                                   | 32/56 [00:57<00:40,  1.71s/it]Your max_length is set to 30, but you input_length is only 16. You might consider decreasing max_length manually, e.g. summarizer('...', max_length=8)\n",
      "Summarizing clusters:  66%|██████████████████████████████████████████████████████▊                            | 37/56 [01:04<00:29,  1.57s/it]Your max_length is set to 30, but you input_length is only 27. You might consider decreasing max_length manually, e.g. summarizer('...', max_length=13)\n",
      "Summarizing clusters:  71%|███████████████████████████████████████████████████████████▎                       | 40/56 [01:11<00:32,  2.03s/it]Your max_length is set to 30, but you input_length is only 5. You might consider decreasing max_length manually, e.g. summarizer('...', max_length=2)\n",
      "Summarizing clusters:  73%|████████████████████████████████████████████████████████████▊                      | 41/56 [01:12<00:25,  1.71s/it]Your max_length is set to 30, but you input_length is only 10. You might consider decreasing max_length manually, e.g. summarizer('...', max_length=5)\n",
      "Summarizing clusters:  75%|██████████████████████████████████████████████████████████████▎                    | 42/56 [01:13<00:21,  1.57s/it]Your max_length is set to 30, but you input_length is only 19. You might consider decreasing max_length manually, e.g. summarizer('...', max_length=9)\n",
      "Summarizing clusters:  77%|███████████████████████████████████████████████████████████████▋                   | 43/56 [01:15<00:19,  1.52s/it]Your max_length is set to 30, but you input_length is only 14. You might consider decreasing max_length manually, e.g. summarizer('...', max_length=7)\n",
      "Summarizing clusters:  79%|█████████████████████████████████████████████████████████████████▏                 | 44/56 [01:16<00:17,  1.42s/it]Your max_length is set to 30, but you input_length is only 11. You might consider decreasing max_length manually, e.g. summarizer('...', max_length=5)\n",
      "Summarizing clusters:  80%|██████████████████████████████████████████████████████████████████▋                | 45/56 [01:17<00:14,  1.31s/it]Your max_length is set to 30, but you input_length is only 17. You might consider decreasing max_length manually, e.g. summarizer('...', max_length=8)\n",
      "Summarizing clusters:  82%|████████████████████████████████████████████████████████████████████▏              | 46/56 [01:18<00:12,  1.27s/it]Your max_length is set to 30, but you input_length is only 6. You might consider decreasing max_length manually, e.g. summarizer('...', max_length=3)\n",
      "Summarizing clusters:  84%|█████████████████████████████████████████████████████████████████████▋             | 47/56 [01:19<00:11,  1.23s/it]Your max_length is set to 30, but you input_length is only 13. You might consider decreasing max_length manually, e.g. summarizer('...', max_length=6)\n",
      "Summarizing clusters:  86%|███████████████████████████████████████████████████████████████████████▏           | 48/56 [01:20<00:09,  1.24s/it]Your max_length is set to 30, but you input_length is only 10. You might consider decreasing max_length manually, e.g. summarizer('...', max_length=5)\n",
      "Summarizing clusters:  88%|████████████████████████████████████████████████████████████████████████▋          | 49/56 [01:21<00:08,  1.17s/it]Your max_length is set to 30, but you input_length is only 7. You might consider decreasing max_length manually, e.g. summarizer('...', max_length=3)\n",
      "Summarizing clusters:  89%|██████████████████████████████████████████████████████████████████████████         | 50/56 [01:23<00:07,  1.19s/it]Your max_length is set to 30, but you input_length is only 6. You might consider decreasing max_length manually, e.g. summarizer('...', max_length=3)\n",
      "Summarizing clusters:  91%|███████████████████████████████████████████████████████████████████████████▌       | 51/56 [01:24<00:05,  1.15s/it]Your max_length is set to 30, but you input_length is only 9. You might consider decreasing max_length manually, e.g. summarizer('...', max_length=4)\n",
      "Summarizing clusters:  95%|██████████████████████████████████████████████████████████████████████████████▌    | 53/56 [01:26<00:03,  1.22s/it]Your max_length is set to 30, but you input_length is only 4. You might consider decreasing max_length manually, e.g. summarizer('...', max_length=2)\n",
      "Summarizing clusters:  96%|████████████████████████████████████████████████████████████████████████████████   | 54/56 [01:27<00:02,  1.18s/it]Your max_length is set to 30, but you input_length is only 9. You might consider decreasing max_length manually, e.g. summarizer('...', max_length=4)\n",
      "Summarizing clusters:  98%|█████████████████████████████████████████████████████████████████████████████████▌ | 55/56 [01:28<00:01,  1.14s/it]Your max_length is set to 30, but you input_length is only 12. You might consider decreasing max_length manually, e.g. summarizer('...', max_length=6)\n",
      "Summarizing clusters: 100%|███████████████████████████████████████████████████████████████████████████████████| 56/56 [01:30<00:00,  1.61s/it]\n"
     ]
    },
    {
     "name": "stdout",
     "output_type": "stream",
     "text": [
      "Processing responses for question 10\n",
      "0.10961497\n"
     ]
    },
    {
     "name": "stderr",
     "output_type": "stream",
     "text": [
      "Summarizing clusters:   7%|██████                                                                              | 3/42 [00:06<01:29,  2.31s/it]Your max_length is set to 30, but you input_length is only 25. You might consider decreasing max_length manually, e.g. summarizer('...', max_length=12)\n",
      "Summarizing clusters:  10%|████████                                                                            | 4/42 [00:08<01:14,  1.96s/it]Your max_length is set to 30, but you input_length is only 23. You might consider decreasing max_length manually, e.g. summarizer('...', max_length=11)\n",
      "Summarizing clusters:  48%|███████████████████████████████████████▌                                           | 20/42 [00:42<00:43,  1.97s/it]Your max_length is set to 30, but you input_length is only 20. You might consider decreasing max_length manually, e.g. summarizer('...', max_length=10)\n",
      "Summarizing clusters:  57%|███████████████████████████████████████████████▍                                   | 24/42 [00:49<00:36,  2.02s/it]Your max_length is set to 30, but you input_length is only 18. You might consider decreasing max_length manually, e.g. summarizer('...', max_length=9)\n",
      "Summarizing clusters:  60%|█████████████████████████████████████████████████▍                                 | 25/42 [00:50<00:29,  1.71s/it]Your max_length is set to 30, but you input_length is only 23. You might consider decreasing max_length manually, e.g. summarizer('...', max_length=11)\n",
      "Summarizing clusters:  62%|███████████████████████████████████████████████████▍                               | 26/42 [00:51<00:23,  1.50s/it]Your max_length is set to 30, but you input_length is only 27. You might consider decreasing max_length manually, e.g. summarizer('...', max_length=13)\n",
      "Summarizing clusters:  69%|█████████████████████████████████████████████████████████▎                         | 29/42 [00:56<00:20,  1.54s/it]Your max_length is set to 30, but you input_length is only 8. You might consider decreasing max_length manually, e.g. summarizer('...', max_length=4)\n",
      "Summarizing clusters:  71%|███████████████████████████████████████████████████████████▎                       | 30/42 [00:57<00:17,  1.45s/it]Your max_length is set to 30, but you input_length is only 16. You might consider decreasing max_length manually, e.g. summarizer('...', max_length=8)\n",
      "Summarizing clusters:  74%|█████████████████████████████████████████████████████████████▎                     | 31/42 [00:59<00:16,  1.46s/it]Your max_length is set to 30, but you input_length is only 11. You might consider decreasing max_length manually, e.g. summarizer('...', max_length=5)\n",
      "Summarizing clusters:  76%|███████████████████████████████████████████████████████████████▏                   | 32/42 [01:00<00:14,  1.44s/it]Your max_length is set to 30, but you input_length is only 20. You might consider decreasing max_length manually, e.g. summarizer('...', max_length=10)\n",
      "Summarizing clusters:  79%|█████████████████████████████████████████████████████████████████▏                 | 33/42 [01:02<00:13,  1.50s/it]Your max_length is set to 30, but you input_length is only 13. You might consider decreasing max_length manually, e.g. summarizer('...', max_length=6)\n",
      "Summarizing clusters:  83%|█████████████████████████████████████████████████████████████████████▏             | 35/42 [01:05<00:12,  1.72s/it]Your max_length is set to 30, but you input_length is only 10. You might consider decreasing max_length manually, e.g. summarizer('...', max_length=5)\n",
      "Summarizing clusters:  86%|███████████████████████████████████████████████████████████████████████▏           | 36/42 [01:06<00:09,  1.54s/it]Your max_length is set to 30, but you input_length is only 23. You might consider decreasing max_length manually, e.g. summarizer('...', max_length=11)\n",
      "Summarizing clusters:  88%|█████████████████████████████████████████████████████████████████████████          | 37/42 [01:08<00:07,  1.45s/it]Your max_length is set to 30, but you input_length is only 7. You might consider decreasing max_length manually, e.g. summarizer('...', max_length=3)\n",
      "Summarizing clusters:  90%|███████████████████████████████████████████████████████████████████████████        | 38/42 [01:09<00:05,  1.33s/it]Your max_length is set to 30, but you input_length is only 8. You might consider decreasing max_length manually, e.g. summarizer('...', max_length=4)\n",
      "Summarizing clusters:  93%|█████████████████████████████████████████████████████████████████████████████      | 39/42 [01:10<00:03,  1.24s/it]Your max_length is set to 30, but you input_length is only 9. You might consider decreasing max_length manually, e.g. summarizer('...', max_length=4)\n",
      "Summarizing clusters:  95%|███████████████████████████████████████████████████████████████████████████████    | 40/42 [01:11<00:02,  1.19s/it]Your max_length is set to 30, but you input_length is only 7. You might consider decreasing max_length manually, e.g. summarizer('...', max_length=3)\n",
      "Summarizing clusters:  98%|█████████████████████████████████████████████████████████████████████████████████  | 41/42 [01:12<00:01,  1.17s/it]Your max_length is set to 30, but you input_length is only 3. You might consider decreasing max_length manually, e.g. summarizer('...', max_length=1)\n",
      "Summarizing clusters: 100%|███████████████████████████████████████████████████████████████████████████████████| 42/42 [01:13<00:00,  1.75s/it]\n"
     ]
    },
    {
     "name": "stdout",
     "output_type": "stream",
     "text": [
      "Processing responses for question 11\n",
      "0.14006957\n"
     ]
    },
    {
     "name": "stderr",
     "output_type": "stream",
     "text": [
      "Summarizing clusters:   0%|                                                                                            | 0/55 [00:00<?, ?it/s]Your max_length is set to 30, but you input_length is only 20. You might consider decreasing max_length manually, e.g. summarizer('...', max_length=10)\n",
      "Summarizing clusters:  13%|██████████▋                                                                         | 7/55 [00:12<01:22,  1.71s/it]Your max_length is set to 30, but you input_length is only 25. You might consider decreasing max_length manually, e.g. summarizer('...', max_length=12)\n",
      "Summarizing clusters:  18%|███████████████                                                                    | 10/55 [00:16<01:16,  1.69s/it]Your max_length is set to 30, but you input_length is only 29. You might consider decreasing max_length manually, e.g. summarizer('...', max_length=14)\n",
      "Summarizing clusters:  24%|███████████████████▌                                                               | 13/55 [00:23<01:28,  2.11s/it]Your max_length is set to 30, but you input_length is only 24. You might consider decreasing max_length manually, e.g. summarizer('...', max_length=12)\n",
      "Summarizing clusters:  33%|███████████████████████████▏                                                       | 18/55 [00:35<01:25,  2.31s/it]Your max_length is set to 30, but you input_length is only 29. You might consider decreasing max_length manually, e.g. summarizer('...', max_length=14)\n",
      "Summarizing clusters:  51%|██████████████████████████████████████████▎                                        | 28/55 [00:51<00:46,  1.72s/it]Your max_length is set to 30, but you input_length is only 24. You might consider decreasing max_length manually, e.g. summarizer('...', max_length=12)\n",
      "Summarizing clusters:  56%|██████████████████████████████████████████████▊                                    | 31/55 [00:56<00:45,  1.90s/it]Your max_length is set to 30, but you input_length is only 22. You might consider decreasing max_length manually, e.g. summarizer('...', max_length=11)\n",
      "Summarizing clusters:  62%|███████████████████████████████████████████████████▎                               | 34/55 [01:03<00:44,  2.14s/it]Your max_length is set to 30, but you input_length is only 29. You might consider decreasing max_length manually, e.g. summarizer('...', max_length=14)\n",
      "Summarizing clusters:  65%|██████████████████████████████████████████████████████▎                            | 36/55 [01:06<00:33,  1.78s/it]Your max_length is set to 30, but you input_length is only 13. You might consider decreasing max_length manually, e.g. summarizer('...', max_length=6)\n",
      "Summarizing clusters:  67%|███████████████████████████████████████████████████████▊                           | 37/55 [01:07<00:29,  1.65s/it]Your max_length is set to 30, but you input_length is only 13. You might consider decreasing max_length manually, e.g. summarizer('...', max_length=6)\n",
      "Summarizing clusters:  69%|█████████████████████████████████████████████████████████▎                         | 38/55 [01:08<00:25,  1.48s/it]Your max_length is set to 30, but you input_length is only 28. You might consider decreasing max_length manually, e.g. summarizer('...', max_length=14)\n",
      "Summarizing clusters:  71%|██████████████████████████████████████████████████████████▊                        | 39/55 [01:10<00:24,  1.53s/it]Your max_length is set to 30, but you input_length is only 22. You might consider decreasing max_length manually, e.g. summarizer('...', max_length=11)\n",
      "Summarizing clusters:  75%|█████████████████████████████████████████████████████████████▊                     | 41/55 [01:12<00:19,  1.36s/it]Your max_length is set to 30, but you input_length is only 23. You might consider decreasing max_length manually, e.g. summarizer('...', max_length=11)\n",
      "Summarizing clusters:  78%|████████████████████████████████████████████████████████████████▉                  | 43/55 [01:15<00:17,  1.49s/it]Your max_length is set to 30, but you input_length is only 7. You might consider decreasing max_length manually, e.g. summarizer('...', max_length=3)\n",
      "Summarizing clusters:  80%|██████████████████████████████████████████████████████████████████▍                | 44/55 [01:16<00:15,  1.36s/it]Your max_length is set to 30, but you input_length is only 21. You might consider decreasing max_length manually, e.g. summarizer('...', max_length=10)\n",
      "Summarizing clusters:  84%|█████████████████████████████████████████████████████████████████████▍             | 46/55 [01:20<00:14,  1.64s/it]Your max_length is set to 30, but you input_length is only 5. You might consider decreasing max_length manually, e.g. summarizer('...', max_length=2)\n",
      "Summarizing clusters:  85%|██████████████████████████████████████████████████████████████████████▉            | 47/55 [01:21<00:12,  1.51s/it]Your max_length is set to 30, but you input_length is only 16. You might consider decreasing max_length manually, e.g. summarizer('...', max_length=8)\n",
      "Summarizing clusters:  87%|████████████████████████████████████████████████████████████████████████▍          | 48/55 [01:23<00:10,  1.53s/it]Your max_length is set to 30, but you input_length is only 11. You might consider decreasing max_length manually, e.g. summarizer('...', max_length=5)\n",
      "Summarizing clusters:  89%|█████████████████████████████████████████████████████████████████████████▉         | 49/55 [01:24<00:08,  1.41s/it]Your max_length is set to 30, but you input_length is only 15. You might consider decreasing max_length manually, e.g. summarizer('...', max_length=7)\n",
      "Summarizing clusters:  91%|███████████████████████████████████████████████████████████████████████████▍       | 50/55 [01:25<00:06,  1.34s/it]Your max_length is set to 30, but you input_length is only 5. You might consider decreasing max_length manually, e.g. summarizer('...', max_length=2)\n",
      "Summarizing clusters:  93%|████████████████████████████████████████████████████████████████████████████▉      | 51/55 [01:26<00:05,  1.28s/it]Your max_length is set to 30, but you input_length is only 11. You might consider decreasing max_length manually, e.g. summarizer('...', max_length=5)\n",
      "Summarizing clusters:  95%|██████████████████████████████████████████████████████████████████████████████▍    | 52/55 [01:27<00:03,  1.24s/it]Your max_length is set to 30, but you input_length is only 7. You might consider decreasing max_length manually, e.g. summarizer('...', max_length=3)\n",
      "Summarizing clusters:  96%|███████████████████████████████████████████████████████████████████████████████▉   | 53/55 [01:28<00:02,  1.21s/it]Your max_length is set to 30, but you input_length is only 9. You might consider decreasing max_length manually, e.g. summarizer('...', max_length=4)\n",
      "Summarizing clusters:  98%|█████████████████████████████████████████████████████████████████████████████████▍ | 54/55 [01:30<00:01,  1.20s/it]Your max_length is set to 30, but you input_length is only 3. You might consider decreasing max_length manually, e.g. summarizer('...', max_length=1)\n",
      "Summarizing clusters: 100%|███████████████████████████████████████████████████████████████████████████████████| 55/55 [01:31<00:00,  1.66s/it]\n"
     ]
    },
    {
     "name": "stdout",
     "output_type": "stream",
     "text": [
      "Processing responses for question 14\n",
      "0.12365892\n"
     ]
    },
    {
     "name": "stderr",
     "output_type": "stream",
     "text": [
      "Summarizing clusters:   0%|                                                                                            | 0/81 [00:00<?, ?it/s]Your max_length is set to 30, but you input_length is only 8. You might consider decreasing max_length manually, e.g. summarizer('...', max_length=4)\n",
      "Summarizing clusters:   1%|█                                                                                   | 1/81 [00:01<01:58,  1.48s/it]Your max_length is set to 30, but you input_length is only 18. You might consider decreasing max_length manually, e.g. summarizer('...', max_length=9)\n",
      "Summarizing clusters:   6%|█████▏                                                                              | 5/81 [00:08<02:24,  1.91s/it]Your max_length is set to 30, but you input_length is only 26. You might consider decreasing max_length manually, e.g. summarizer('...', max_length=13)\n",
      "Summarizing clusters:   9%|███████▎                                                                            | 7/81 [00:12<02:21,  1.91s/it]Your max_length is set to 30, but you input_length is only 29. You might consider decreasing max_length manually, e.g. summarizer('...', max_length=14)\n",
      "Summarizing clusters:  11%|█████████▎                                                                          | 9/81 [00:15<02:12,  1.83s/it]Your max_length is set to 30, but you input_length is only 22. You might consider decreasing max_length manually, e.g. summarizer('...', max_length=11)\n",
      "Summarizing clusters:  15%|████████████▎                                                                      | 12/81 [00:21<02:11,  1.91s/it]Your max_length is set to 30, but you input_length is only 11. You might consider decreasing max_length manually, e.g. summarizer('...', max_length=5)\n",
      "Summarizing clusters:  20%|████████████████▍                                                                  | 16/81 [00:27<01:48,  1.67s/it]Your max_length is set to 30, but you input_length is only 26. You might consider decreasing max_length manually, e.g. summarizer('...', max_length=13)\n",
      "Summarizing clusters:  41%|█████████████████████████████████▊                                                 | 33/81 [01:04<01:49,  2.28s/it]Your max_length is set to 30, but you input_length is only 28. You might consider decreasing max_length manually, e.g. summarizer('...', max_length=14)\n",
      "Summarizing clusters:  67%|███████████████████████████████████████████████████████▎                           | 54/81 [01:45<00:52,  1.93s/it]Your max_length is set to 30, but you input_length is only 5. You might consider decreasing max_length manually, e.g. summarizer('...', max_length=2)\n",
      "Summarizing clusters:  68%|████████████████████████████████████████████████████████▎                          | 55/81 [01:46<00:42,  1.64s/it]Your max_length is set to 30, but you input_length is only 25. You might consider decreasing max_length manually, e.g. summarizer('...', max_length=12)\n",
      "Summarizing clusters:  72%|███████████████████████████████████████████████████████████▍                       | 58/81 [01:52<00:43,  1.89s/it]Your max_length is set to 30, but you input_length is only 28. You might consider decreasing max_length manually, e.g. summarizer('...', max_length=14)\n",
      "Summarizing clusters:  73%|████████████████████████████████████████████████████████████▍                      | 59/81 [01:54<00:39,  1.81s/it]Your max_length is set to 30, but you input_length is only 12. You might consider decreasing max_length manually, e.g. summarizer('...', max_length=6)\n",
      "Summarizing clusters:  74%|█████████████████████████████████████████████████████████████▍                     | 60/81 [01:55<00:36,  1.74s/it]Your max_length is set to 30, but you input_length is only 22. You might consider decreasing max_length manually, e.g. summarizer('...', max_length=11)\n",
      "Summarizing clusters:  75%|██████████████████████████████████████████████████████████████▌                    | 61/81 [01:56<00:30,  1.51s/it]Your max_length is set to 30, but you input_length is only 6. You might consider decreasing max_length manually, e.g. summarizer('...', max_length=3)\n",
      "Summarizing clusters:  77%|███████████████████████████████████████████████████████████████▌                   | 62/81 [01:57<00:26,  1.38s/it]Your max_length is set to 30, but you input_length is only 8. You might consider decreasing max_length manually, e.g. summarizer('...', max_length=4)\n",
      "Summarizing clusters:  78%|████████████████████████████████████████████████████████████████▌                  | 63/81 [01:58<00:22,  1.26s/it]Your max_length is set to 30, but you input_length is only 11. You might consider decreasing max_length manually, e.g. summarizer('...', max_length=5)\n",
      "Summarizing clusters:  79%|█████████████████████████████████████████████████████████████████▌                 | 64/81 [02:00<00:20,  1.21s/it]Your max_length is set to 30, but you input_length is only 13. You might consider decreasing max_length manually, e.g. summarizer('...', max_length=6)\n",
      "Summarizing clusters:  80%|██████████████████████████████████████████████████████████████████▌                | 65/81 [02:01<00:19,  1.24s/it]Your max_length is set to 30, but you input_length is only 27. You might consider decreasing max_length manually, e.g. summarizer('...', max_length=13)\n",
      "Summarizing clusters:  81%|███████████████████████████████████████████████████████████████████▋               | 66/81 [02:03<00:24,  1.60s/it]Your max_length is set to 30, but you input_length is only 14. You might consider decreasing max_length manually, e.g. summarizer('...', max_length=7)\n",
      "Summarizing clusters:  83%|████████████████████████████████████████████████████████████████████▋              | 67/81 [02:05<00:21,  1.52s/it]Your max_length is set to 30, but you input_length is only 6. You might consider decreasing max_length manually, e.g. summarizer('...', max_length=3)\n",
      "Summarizing clusters:  84%|█████████████████████████████████████████████████████████████████████▋             | 68/81 [02:06<00:18,  1.41s/it]Your max_length is set to 30, but you input_length is only 10. You might consider decreasing max_length manually, e.g. summarizer('...', max_length=5)\n",
      "Summarizing clusters:  85%|██████████████████████████████████████████████████████████████████████▋            | 69/81 [02:07<00:15,  1.33s/it]Your max_length is set to 30, but you input_length is only 7. You might consider decreasing max_length manually, e.g. summarizer('...', max_length=3)\n",
      "Summarizing clusters:  86%|███████████████████████████████████████████████████████████████████████▋           | 70/81 [02:08<00:13,  1.25s/it]Your max_length is set to 30, but you input_length is only 14. You might consider decreasing max_length manually, e.g. summarizer('...', max_length=7)\n",
      "Summarizing clusters:  88%|████████████████████████████████████████████████████████████████████████▊          | 71/81 [02:09<00:12,  1.25s/it]Your max_length is set to 30, but you input_length is only 4. You might consider decreasing max_length manually, e.g. summarizer('...', max_length=2)\n",
      "Summarizing clusters:  89%|█████████████████████████████████████████████████████████████████████████▊         | 72/81 [02:10<00:11,  1.22s/it]Your max_length is set to 30, but you input_length is only 9. You might consider decreasing max_length manually, e.g. summarizer('...', max_length=4)\n",
      "Summarizing clusters:  90%|██████████████████████████████████████████████████████████████████████████▊        | 73/81 [02:11<00:09,  1.18s/it]Your max_length is set to 30, but you input_length is only 9. You might consider decreasing max_length manually, e.g. summarizer('...', max_length=4)\n",
      "Summarizing clusters:  93%|████████████████████████████████████████████████████████████████████████████▊      | 75/81 [02:14<00:08,  1.34s/it]Your max_length is set to 30, but you input_length is only 10. You might consider decreasing max_length manually, e.g. summarizer('...', max_length=5)\n",
      "Summarizing clusters:  96%|███████████████████████████████████████████████████████████████████████████████▉   | 78/81 [02:19<00:04,  1.48s/it]Your max_length is set to 30, but you input_length is only 9. You might consider decreasing max_length manually, e.g. summarizer('...', max_length=4)\n"
     ]
    },
    {
     "name": "stderr",
     "output_type": "stream",
     "text": [
      "Summarizing clusters:  98%|████████████████████████████████████████████████████████████████████████████████▉  | 79/81 [02:20<00:02,  1.43s/it]Your max_length is set to 30, but you input_length is only 19. You might consider decreasing max_length manually, e.g. summarizer('...', max_length=9)\n",
      "Summarizing clusters:  99%|█████████████████████████████████████████████████████████████████████████████████▉ | 80/81 [02:21<00:01,  1.34s/it]Your max_length is set to 30, but you input_length is only 18. You might consider decreasing max_length manually, e.g. summarizer('...', max_length=9)\n",
      "Summarizing clusters: 100%|███████████████████████████████████████████████████████████████████████████████████| 81/81 [02:22<00:00,  1.76s/it]\n"
     ]
    },
    {
     "name": "stdout",
     "output_type": "stream",
     "text": [
      "Processing responses for question 18\n",
      "0.09439687\n"
     ]
    },
    {
     "name": "stderr",
     "output_type": "stream",
     "text": [
      "Summarizing clusters:  50%|█████████████████████████████████████████▌                                         | 12/24 [00:29<00:25,  2.16s/it]Your max_length is set to 30, but you input_length is only 29. You might consider decreasing max_length manually, e.g. summarizer('...', max_length=14)\n",
      "Summarizing clusters:  54%|████████████████████████████████████████████▉                                      | 13/24 [00:30<00:20,  1.86s/it]Your max_length is set to 30, but you input_length is only 24. You might consider decreasing max_length manually, e.g. summarizer('...', max_length=12)\n",
      "Summarizing clusters:  58%|████████████████████████████████████████████████▍                                  | 14/24 [00:31<00:16,  1.66s/it]Your max_length is set to 30, but you input_length is only 22. You might consider decreasing max_length manually, e.g. summarizer('...', max_length=11)\n",
      "Summarizing clusters:  62%|███████████████████████████████████████████████████▉                               | 15/24 [00:32<00:13,  1.48s/it]Your max_length is set to 30, but you input_length is only 15. You might consider decreasing max_length manually, e.g. summarizer('...', max_length=7)\n",
      "Summarizing clusters:  67%|███████████████████████████████████████████████████████▎                           | 16/24 [00:33<00:11,  1.47s/it]Your max_length is set to 30, but you input_length is only 17. You might consider decreasing max_length manually, e.g. summarizer('...', max_length=8)\n",
      "Summarizing clusters:  71%|██████████████████████████████████████████████████████████▊                        | 17/24 [00:35<00:10,  1.51s/it]Your max_length is set to 30, but you input_length is only 27. You might consider decreasing max_length manually, e.g. summarizer('...', max_length=13)\n",
      "Summarizing clusters:  75%|██████████████████████████████████████████████████████████████▎                    | 18/24 [00:36<00:08,  1.43s/it]Your max_length is set to 30, but you input_length is only 10. You might consider decreasing max_length manually, e.g. summarizer('...', max_length=5)\n",
      "Summarizing clusters:  79%|█████████████████████████████████████████████████████████████████▋                 | 19/24 [00:37<00:06,  1.32s/it]Your max_length is set to 30, but you input_length is only 9. You might consider decreasing max_length manually, e.g. summarizer('...', max_length=4)\n",
      "Summarizing clusters:  83%|█████████████████████████████████████████████████████████████████████▏             | 20/24 [00:38<00:05,  1.25s/it]Your max_length is set to 30, but you input_length is only 17. You might consider decreasing max_length manually, e.g. summarizer('...', max_length=8)\n",
      "Summarizing clusters:  88%|████████████████████████████████████████████████████████████████████████▋          | 21/24 [00:40<00:03,  1.23s/it]Your max_length is set to 30, but you input_length is only 7. You might consider decreasing max_length manually, e.g. summarizer('...', max_length=3)\n",
      "Summarizing clusters:  92%|████████████████████████████████████████████████████████████████████████████       | 22/24 [00:41<00:02,  1.21s/it]Your max_length is set to 30, but you input_length is only 12. You might consider decreasing max_length manually, e.g. summarizer('...', max_length=6)\n",
      "Summarizing clusters:  96%|███████████████████████████████████████████████████████████████████████████████▌   | 23/24 [00:42<00:01,  1.22s/it]Your max_length is set to 30, but you input_length is only 3. You might consider decreasing max_length manually, e.g. summarizer('...', max_length=1)\n",
      "Summarizing clusters: 100%|███████████████████████████████████████████████████████████████████████████████████| 24/24 [00:43<00:00,  1.81s/it]\n"
     ]
    },
    {
     "name": "stdout",
     "output_type": "stream",
     "text": [
      "Processing responses for question 21\n",
      "0.09784919\n"
     ]
    },
    {
     "name": "stderr",
     "output_type": "stream",
     "text": [
      "Summarizing clusters:   0%|                                                                                            | 0/70 [00:00<?, ?it/s]Your max_length is set to 30, but you input_length is only 7. You might consider decreasing max_length manually, e.g. summarizer('...', max_length=3)\n",
      "Summarizing clusters:   4%|███▌                                                                                | 3/70 [00:04<01:32,  1.39s/it]Your max_length is set to 30, but you input_length is only 24. You might consider decreasing max_length manually, e.g. summarizer('...', max_length=12)\n",
      "Summarizing clusters:  13%|██████████▊                                                                         | 9/70 [00:15<01:48,  1.78s/it]Your max_length is set to 30, but you input_length is only 18. You might consider decreasing max_length manually, e.g. summarizer('...', max_length=9)\n",
      "Summarizing clusters:  16%|█████████████                                                                      | 11/70 [00:18<01:34,  1.61s/it]Your max_length is set to 30, but you input_length is only 28. You might consider decreasing max_length manually, e.g. summarizer('...', max_length=14)\n",
      "Summarizing clusters:  21%|█████████████████▊                                                                 | 15/70 [00:25<01:39,  1.82s/it]Your max_length is set to 30, but you input_length is only 23. You might consider decreasing max_length manually, e.g. summarizer('...', max_length=11)\n",
      "Summarizing clusters:  30%|████████████████████████▉                                                          | 21/70 [00:37<01:38,  2.02s/it]Your max_length is set to 30, but you input_length is only 25. You might consider decreasing max_length manually, e.g. summarizer('...', max_length=12)\n",
      "Summarizing clusters:  69%|████████████████████████████████████████████████████████▉                          | 48/70 [01:30<00:41,  1.88s/it]Your max_length is set to 30, but you input_length is only 16. You might consider decreasing max_length manually, e.g. summarizer('...', max_length=8)\n",
      "Summarizing clusters:  70%|██████████████████████████████████████████████████████████                         | 49/70 [01:32<00:35,  1.71s/it]Your max_length is set to 30, but you input_length is only 4. You might consider decreasing max_length manually, e.g. summarizer('...', max_length=2)\n",
      "Summarizing clusters:  74%|█████████████████████████████████████████████████████████████▋                     | 52/70 [01:36<00:26,  1.49s/it]Your max_length is set to 30, but you input_length is only 20. You might consider decreasing max_length manually, e.g. summarizer('...', max_length=10)\n",
      "Summarizing clusters:  76%|██████████████████████████████████████████████████████████████▊                    | 53/70 [01:37<00:24,  1.45s/it]Your max_length is set to 30, but you input_length is only 12. You might consider decreasing max_length manually, e.g. summarizer('...', max_length=6)\n",
      "Summarizing clusters:  77%|████████████████████████████████████████████████████████████████                   | 54/70 [01:38<00:22,  1.41s/it]Your max_length is set to 30, but you input_length is only 11. You might consider decreasing max_length manually, e.g. summarizer('...', max_length=5)\n",
      "Summarizing clusters:  79%|█████████████████████████████████████████████████████████████████▏                 | 55/70 [01:40<00:20,  1.35s/it]Your max_length is set to 30, but you input_length is only 22. You might consider decreasing max_length manually, e.g. summarizer('...', max_length=11)\n",
      "Summarizing clusters:  80%|██████████████████████████████████████████████████████████████████▍                | 56/70 [01:41<00:17,  1.24s/it]Your max_length is set to 30, but you input_length is only 14. You might consider decreasing max_length manually, e.g. summarizer('...', max_length=7)\n",
      "Summarizing clusters:  81%|███████████████████████████████████████████████████████████████████▌               | 57/70 [01:42<00:16,  1.28s/it]Your max_length is set to 30, but you input_length is only 6. You might consider decreasing max_length manually, e.g. summarizer('...', max_length=3)\n",
      "Summarizing clusters:  83%|████████████████████████████████████████████████████████████████████▊              | 58/70 [01:43<00:14,  1.21s/it]Your max_length is set to 30, but you input_length is only 13. You might consider decreasing max_length manually, e.g. summarizer('...', max_length=6)\n",
      "Summarizing clusters:  84%|█████████████████████████████████████████████████████████████████████▉             | 59/70 [01:44<00:12,  1.15s/it]Your max_length is set to 30, but you input_length is only 15. You might consider decreasing max_length manually, e.g. summarizer('...', max_length=7)\n",
      "Summarizing clusters:  86%|███████████████████████████████████████████████████████████████████████▏           | 60/70 [01:45<00:11,  1.18s/it]Your max_length is set to 30, but you input_length is only 15. You might consider decreasing max_length manually, e.g. summarizer('...', max_length=7)\n",
      "Summarizing clusters:  87%|████████████████████████████████████████████████████████████████████████▎          | 61/70 [01:46<00:10,  1.21s/it]Your max_length is set to 30, but you input_length is only 4. You might consider decreasing max_length manually, e.g. summarizer('...', max_length=2)\n",
      "Summarizing clusters:  89%|█████████████████████████████████████████████████████████████████████████▌         | 62/70 [01:48<00:09,  1.21s/it]Your max_length is set to 30, but you input_length is only 24. You might consider decreasing max_length manually, e.g. summarizer('...', max_length=12)\n",
      "Summarizing clusters:  90%|██████████████████████████████████████████████████████████████████████████▋        | 63/70 [01:49<00:09,  1.37s/it]Your max_length is set to 30, but you input_length is only 5. You might consider decreasing max_length manually, e.g. summarizer('...', max_length=2)\n",
      "Summarizing clusters:  91%|███████████████████████████████████████████████████████████████████████████▉       | 64/70 [01:51<00:07,  1.32s/it]Your max_length is set to 30, but you input_length is only 6. You might consider decreasing max_length manually, e.g. summarizer('...', max_length=3)\n",
      "Summarizing clusters:  93%|█████████████████████████████████████████████████████████████████████████████      | 65/70 [01:52<00:06,  1.32s/it]Your max_length is set to 30, but you input_length is only 7. You might consider decreasing max_length manually, e.g. summarizer('...', max_length=3)\n",
      "Summarizing clusters:  94%|██████████████████████████████████████████████████████████████████████████████▎    | 66/70 [01:53<00:05,  1.31s/it]Your max_length is set to 30, but you input_length is only 12. You might consider decreasing max_length manually, e.g. summarizer('...', max_length=6)\n",
      "Summarizing clusters:  96%|███████████████████████████████████████████████████████████████████████████████▍   | 67/70 [01:55<00:03,  1.30s/it]Your max_length is set to 30, but you input_length is only 14. You might consider decreasing max_length manually, e.g. summarizer('...', max_length=7)\n",
      "Summarizing clusters:  97%|████████████████████████████████████████████████████████████████████████████████▋  | 68/70 [01:56<00:02,  1.33s/it]Your max_length is set to 30, but you input_length is only 3. You might consider decreasing max_length manually, e.g. summarizer('...', max_length=1)\n",
      "Summarizing clusters:  99%|█████████████████████████████████████████████████████████████████████████████████▊ | 69/70 [01:57<00:01,  1.35s/it]Your max_length is set to 30, but you input_length is only 5. You might consider decreasing max_length manually, e.g. summarizer('...', max_length=2)\n",
      "Summarizing clusters: 100%|███████████████████████████████████████████████████████████████████████████████████| 70/70 [01:58<00:00,  1.70s/it]\n"
     ]
    },
    {
     "name": "stdout",
     "output_type": "stream",
     "text": [
      "Processing responses for question 12\n",
      "0.123674534\n"
     ]
    },
    {
     "name": "stderr",
     "output_type": "stream",
     "text": [
      "Summarizing clusters:  18%|███████████████▍                                                                    | 9/49 [00:16<01:19,  1.98s/it]Your max_length is set to 30, but you input_length is only 19. You might consider decreasing max_length manually, e.g. summarizer('...', max_length=9)\n",
      "Summarizing clusters:  33%|███████████████████████████                                                        | 16/49 [00:31<01:07,  2.03s/it]Your max_length is set to 30, but you input_length is only 6. You might consider decreasing max_length manually, e.g. summarizer('...', max_length=3)\n",
      "Summarizing clusters:  39%|████████████████████████████████▏                                                  | 19/49 [00:36<00:57,  1.90s/it]Your max_length is set to 30, but you input_length is only 19. You might consider decreasing max_length manually, e.g. summarizer('...', max_length=9)\n",
      "Summarizing clusters:  49%|████████████████████████████████████████▋                                          | 24/49 [00:44<00:40,  1.63s/it]Your max_length is set to 30, but you input_length is only 21. You might consider decreasing max_length manually, e.g. summarizer('...', max_length=10)\n",
      "Summarizing clusters:  57%|███████████████████████████████████████████████▍                                   | 28/49 [00:51<00:35,  1.68s/it]Your max_length is set to 30, but you input_length is only 19. You might consider decreasing max_length manually, e.g. summarizer('...', max_length=9)\n",
      "Summarizing clusters:  59%|█████████████████████████████████████████████████                                  | 29/49 [00:53<00:31,  1.57s/it]Your max_length is set to 30, but you input_length is only 21. You might consider decreasing max_length manually, e.g. summarizer('...', max_length=10)\n",
      "Summarizing clusters:  61%|██████████████████████████████████████████████████▊                                | 30/49 [00:54<00:26,  1.40s/it]Your max_length is set to 30, but you input_length is only 23. You might consider decreasing max_length manually, e.g. summarizer('...', max_length=11)\n",
      "Summarizing clusters:  63%|████████████████████████████████████████████████████▌                              | 31/49 [00:56<00:27,  1.54s/it]Your max_length is set to 30, but you input_length is only 10. You might consider decreasing max_length manually, e.g. summarizer('...', max_length=5)\n",
      "Summarizing clusters:  65%|██████████████████████████████████████████████████████▏                            | 32/49 [00:57<00:23,  1.40s/it]Your max_length is set to 30, but you input_length is only 23. You might consider decreasing max_length manually, e.g. summarizer('...', max_length=11)\n",
      "Summarizing clusters:  69%|█████████████████████████████████████████████████████████▌                         | 34/49 [01:00<00:23,  1.57s/it]Your max_length is set to 30, but you input_length is only 24. You might consider decreasing max_length manually, e.g. summarizer('...', max_length=12)\n",
      "Summarizing clusters:  76%|██████████████████████████████████████████████████████████████▋                    | 37/49 [01:04<00:18,  1.52s/it]Your max_length is set to 30, but you input_length is only 11. You might consider decreasing max_length manually, e.g. summarizer('...', max_length=5)\n",
      "Summarizing clusters:  78%|████████████████████████████████████████████████████████████████▎                  | 38/49 [01:05<00:15,  1.39s/it]Your max_length is set to 30, but you input_length is only 6. You might consider decreasing max_length manually, e.g. summarizer('...', max_length=3)\n",
      "Summarizing clusters:  80%|██████████████████████████████████████████████████████████████████                 | 39/49 [01:06<00:12,  1.29s/it]Your max_length is set to 30, but you input_length is only 15. You might consider decreasing max_length manually, e.g. summarizer('...', max_length=7)\n",
      "Summarizing clusters:  82%|███████████████████████████████████████████████████████████████████▊               | 40/49 [01:08<00:11,  1.26s/it]Your max_length is set to 30, but you input_length is only 17. You might consider decreasing max_length manually, e.g. summarizer('...', max_length=8)\n",
      "Summarizing clusters:  84%|█████████████████████████████████████████████████████████████████████▍             | 41/49 [01:09<00:10,  1.35s/it]Your max_length is set to 30, but you input_length is only 13. You might consider decreasing max_length manually, e.g. summarizer('...', max_length=6)\n",
      "Summarizing clusters:  88%|████████████████████████████████████████████████████████████████████████▊          | 43/49 [01:12<00:08,  1.41s/it]Your max_length is set to 30, but you input_length is only 25. You might consider decreasing max_length manually, e.g. summarizer('...', max_length=12)\n",
      "Summarizing clusters:  90%|██████████████████████████████████████████████████████████████████████████▌        | 44/49 [01:13<00:07,  1.41s/it]Your max_length is set to 30, but you input_length is only 21. You might consider decreasing max_length manually, e.g. summarizer('...', max_length=10)\n",
      "Summarizing clusters:  92%|████████████████████████████████████████████████████████████████████████████▏      | 45/49 [01:15<00:06,  1.51s/it]Your max_length is set to 30, but you input_length is only 5. You might consider decreasing max_length manually, e.g. summarizer('...', max_length=2)\n",
      "Summarizing clusters:  94%|█████████████████████████████████████████████████████████████████████████████▉     | 46/49 [01:16<00:04,  1.37s/it]Your max_length is set to 30, but you input_length is only 4. You might consider decreasing max_length manually, e.g. summarizer('...', max_length=2)\n",
      "Summarizing clusters:  96%|███████████████████████████████████████████████████████████████████████████████▌   | 47/49 [01:17<00:02,  1.26s/it]Your max_length is set to 30, but you input_length is only 19. You might consider decreasing max_length manually, e.g. summarizer('...', max_length=9)\n",
      "Summarizing clusters:  98%|█████████████████████████████████████████████████████████████████████████████████▎ | 48/49 [01:19<00:01,  1.41s/it]Your max_length is set to 30, but you input_length is only 3. You might consider decreasing max_length manually, e.g. summarizer('...', max_length=1)\n",
      "Summarizing clusters: 100%|███████████████████████████████████████████████████████████████████████████████████| 49/49 [01:20<00:00,  1.64s/it]\n"
     ]
    },
    {
     "name": "stdout",
     "output_type": "stream",
     "text": [
      "Processing responses for question 13\n",
      "0.1439448\n"
     ]
    },
    {
     "name": "stderr",
     "output_type": "stream",
     "text": [
      "Summarizing clusters:   0%|                                                                                            | 0/51 [00:00<?, ?it/s]Your max_length is set to 30, but you input_length is only 9. You might consider decreasing max_length manually, e.g. summarizer('...', max_length=4)\n",
      "Summarizing clusters:   2%|█▋                                                                                  | 1/51 [00:01<00:56,  1.12s/it]Your max_length is set to 30, but you input_length is only 25. You might consider decreasing max_length manually, e.g. summarizer('...', max_length=12)\n",
      "Summarizing clusters:   6%|████▉                                                                               | 3/51 [00:05<01:43,  2.16s/it]Your max_length is set to 30, but you input_length is only 24. You might consider decreasing max_length manually, e.g. summarizer('...', max_length=12)\n",
      "Summarizing clusters:   8%|██████▌                                                                             | 4/51 [00:07<01:24,  1.79s/it]Your max_length is set to 30, but you input_length is only 7. You might consider decreasing max_length manually, e.g. summarizer('...', max_length=3)\n",
      "Summarizing clusters:  14%|███████████▌                                                                        | 7/51 [00:11<01:10,  1.61s/it]Your max_length is set to 30, but you input_length is only 23. You might consider decreasing max_length manually, e.g. summarizer('...', max_length=11)\n",
      "Summarizing clusters:  35%|█████████████████████████████▎                                                     | 18/51 [00:32<01:00,  1.84s/it]Your max_length is set to 30, but you input_length is only 26. You might consider decreasing max_length manually, e.g. summarizer('...', max_length=13)\n",
      "Summarizing clusters:  37%|██████████████████████████████▉                                                    | 19/51 [00:33<00:58,  1.84s/it]Your max_length is set to 30, but you input_length is only 21. You might consider decreasing max_length manually, e.g. summarizer('...', max_length=10)\n",
      "Summarizing clusters:  43%|███████████████████████████████████▊                                               | 22/51 [00:39<00:56,  1.93s/it]Your max_length is set to 30, but you input_length is only 24. You might consider decreasing max_length manually, e.g. summarizer('...', max_length=12)\n",
      "Summarizing clusters:  45%|█████████████████████████████████████▍                                             | 23/51 [00:40<00:47,  1.70s/it]Your max_length is set to 30, but you input_length is only 24. You might consider decreasing max_length manually, e.g. summarizer('...', max_length=12)\n",
      "Summarizing clusters:  47%|███████████████████████████████████████                                            | 24/51 [00:42<00:43,  1.60s/it]Your max_length is set to 30, but you input_length is only 28. You might consider decreasing max_length manually, e.g. summarizer('...', max_length=14)\n",
      "Summarizing clusters:  59%|████████████████████████████████████████████████▊                                  | 30/51 [00:53<00:37,  1.78s/it]Your max_length is set to 30, but you input_length is only 19. You might consider decreasing max_length manually, e.g. summarizer('...', max_length=9)\n",
      "Summarizing clusters:  63%|████████████████████████████████████████████████████                               | 32/51 [00:57<00:36,  1.90s/it]Your max_length is set to 30, but you input_length is only 27. You might consider decreasing max_length manually, e.g. summarizer('...', max_length=13)\n",
      "Summarizing clusters:  65%|█████████████████████████████████████████████████████▋                             | 33/51 [00:58<00:31,  1.75s/it]Your max_length is set to 30, but you input_length is only 16. You might consider decreasing max_length manually, e.g. summarizer('...', max_length=8)\n",
      "Summarizing clusters:  67%|███████████████████████████████████████████████████████▎                           | 34/51 [01:00<00:27,  1.64s/it]Your max_length is set to 30, but you input_length is only 23. You might consider decreasing max_length manually, e.g. summarizer('...', max_length=11)\n",
      "Summarizing clusters:  69%|████████████████████████████████████████████████████████▉                          | 35/51 [01:01<00:24,  1.55s/it]Your max_length is set to 30, but you input_length is only 18. You might consider decreasing max_length manually, e.g. summarizer('...', max_length=9)\n",
      "Summarizing clusters:  71%|██████████████████████████████████████████████████████████▌                        | 36/51 [01:02<00:21,  1.40s/it]Your max_length is set to 30, but you input_length is only 13. You might consider decreasing max_length manually, e.g. summarizer('...', max_length=6)\n",
      "Summarizing clusters:  73%|████████████████████████████████████████████████████████████▏                      | 37/51 [01:03<00:19,  1.36s/it]Your max_length is set to 30, but you input_length is only 7. You might consider decreasing max_length manually, e.g. summarizer('...', max_length=3)\n",
      "Summarizing clusters:  76%|███████████████████████████████████████████████████████████████▍                   | 39/51 [01:06<00:18,  1.52s/it]Your max_length is set to 30, but you input_length is only 5. You might consider decreasing max_length manually, e.g. summarizer('...', max_length=2)\n",
      "Summarizing clusters:  78%|█████████████████████████████████████████████████████████████████                  | 40/51 [01:08<00:15,  1.41s/it]Your max_length is set to 30, but you input_length is only 9. You might consider decreasing max_length manually, e.g. summarizer('...', max_length=4)\n",
      "Summarizing clusters:  80%|██████████████████████████████████████████████████████████████████▋                | 41/51 [01:09<00:13,  1.31s/it]Your max_length is set to 30, but you input_length is only 11. You might consider decreasing max_length manually, e.g. summarizer('...', max_length=5)\n",
      "Summarizing clusters:  82%|████████████████████████████████████████████████████████████████████▎              | 42/51 [01:10<00:12,  1.36s/it]Your max_length is set to 30, but you input_length is only 18. You might consider decreasing max_length manually, e.g. summarizer('...', max_length=9)\n",
      "Summarizing clusters:  84%|█████████████████████████████████████████████████████████████████████▉             | 43/51 [01:11<00:10,  1.33s/it]Your max_length is set to 30, but you input_length is only 7. You might consider decreasing max_length manually, e.g. summarizer('...', max_length=3)\n",
      "Summarizing clusters:  86%|███████████████████████████████████████████████████████████████████████▌           | 44/51 [01:13<00:09,  1.32s/it]Your max_length is set to 30, but you input_length is only 11. You might consider decreasing max_length manually, e.g. summarizer('...', max_length=5)\n",
      "Summarizing clusters:  88%|█████████████████████████████████████████████████████████████████████████▏         | 45/51 [01:14<00:07,  1.25s/it]Your max_length is set to 30, but you input_length is only 20. You might consider decreasing max_length manually, e.g. summarizer('...', max_length=10)\n",
      "Summarizing clusters:  90%|██████████████████████████████████████████████████████████████████████████▊        | 46/51 [01:15<00:06,  1.30s/it]Your max_length is set to 30, but you input_length is only 6. You might consider decreasing max_length manually, e.g. summarizer('...', max_length=3)\n",
      "Summarizing clusters:  92%|████████████████████████████████████████████████████████████████████████████▍      | 47/51 [01:16<00:05,  1.25s/it]Your max_length is set to 30, but you input_length is only 11. You might consider decreasing max_length manually, e.g. summarizer('...', max_length=5)\n",
      "Summarizing clusters:  94%|██████████████████████████████████████████████████████████████████████████████     | 48/51 [01:18<00:03,  1.25s/it]Your max_length is set to 30, but you input_length is only 13. You might consider decreasing max_length manually, e.g. summarizer('...', max_length=6)\n",
      "Summarizing clusters:  96%|███████████████████████████████████████████████████████████████████████████████▋   | 49/51 [01:19<00:02,  1.27s/it]Your max_length is set to 30, but you input_length is only 24. You might consider decreasing max_length manually, e.g. summarizer('...', max_length=12)\n"
     ]
    },
    {
     "name": "stderr",
     "output_type": "stream",
     "text": [
      "Summarizing clusters:  98%|█████████████████████████████████████████████████████████████████████████████████▎ | 50/51 [01:20<00:01,  1.26s/it]Your max_length is set to 30, but you input_length is only 9. You might consider decreasing max_length manually, e.g. summarizer('...', max_length=4)\n",
      "Summarizing clusters: 100%|███████████████████████████████████████████████████████████████████████████████████| 51/51 [01:21<00:00,  1.60s/it]\n"
     ]
    },
    {
     "name": "stdout",
     "output_type": "stream",
     "text": [
      "Processing responses for question 23\n",
      "0.12271162\n"
     ]
    },
    {
     "name": "stderr",
     "output_type": "stream",
     "text": [
      "Summarizing clusters:   0%|                                                                                            | 0/93 [00:00<?, ?it/s]Your max_length is set to 30, but you input_length is only 15. You might consider decreasing max_length manually, e.g. summarizer('...', max_length=7)\n",
      "Summarizing clusters:   1%|▉                                                                                   | 1/93 [00:01<01:45,  1.15s/it]Your max_length is set to 30, but you input_length is only 23. You might consider decreasing max_length manually, e.g. summarizer('...', max_length=11)\n",
      "Summarizing clusters:   5%|████▌                                                                               | 5/93 [00:07<02:15,  1.54s/it]Your max_length is set to 30, but you input_length is only 29. You might consider decreasing max_length manually, e.g. summarizer('...', max_length=14)\n",
      "Summarizing clusters:  11%|████████▉                                                                          | 10/93 [00:17<02:49,  2.04s/it]Your max_length is set to 30, but you input_length is only 26. You might consider decreasing max_length manually, e.g. summarizer('...', max_length=13)\n",
      "Summarizing clusters:  16%|█████████████▍                                                                     | 15/93 [00:27<02:27,  1.89s/it]Your max_length is set to 30, but you input_length is only 17. You might consider decreasing max_length manually, e.g. summarizer('...', max_length=8)\n",
      "Summarizing clusters:  18%|███████████████▏                                                                   | 17/93 [00:29<02:00,  1.58s/it]Your max_length is set to 30, but you input_length is only 22. You might consider decreasing max_length manually, e.g. summarizer('...', max_length=11)\n",
      "Summarizing clusters:  29%|████████████████████████                                                           | 27/93 [00:50<02:14,  2.04s/it]Your max_length is set to 30, but you input_length is only 13. You might consider decreasing max_length manually, e.g. summarizer('...', max_length=6)\n",
      "Summarizing clusters:  35%|█████████████████████████████▍                                                     | 33/93 [01:01<02:01,  2.03s/it]Your max_length is set to 30, but you input_length is only 19. You might consider decreasing max_length manually, e.g. summarizer('...', max_length=9)\n",
      "Summarizing clusters:  46%|██████████████████████████████████████▍                                            | 43/93 [01:22<01:44,  2.10s/it]Your max_length is set to 30, but you input_length is only 25. You might consider decreasing max_length manually, e.g. summarizer('...', max_length=12)\n",
      "Summarizing clusters:  48%|████████████████████████████████████████▏                                          | 45/93 [01:25<01:24,  1.77s/it]Your max_length is set to 30, but you input_length is only 24. You might consider decreasing max_length manually, e.g. summarizer('...', max_length=12)\n",
      "Summarizing clusters:  49%|█████████████████████████████████████████                                          | 46/93 [01:27<01:19,  1.69s/it]Your max_length is set to 30, but you input_length is only 22. You might consider decreasing max_length manually, e.g. summarizer('...', max_length=11)\n",
      "Summarizing clusters:  51%|█████████████████████████████████████████▉                                         | 47/93 [01:28<01:12,  1.58s/it]Your max_length is set to 30, but you input_length is only 15. You might consider decreasing max_length manually, e.g. summarizer('...', max_length=7)\n",
      "Summarizing clusters:  59%|█████████████████████████████████████████████████                                  | 55/93 [01:43<01:10,  1.86s/it]Your max_length is set to 30, but you input_length is only 27. You might consider decreasing max_length manually, e.g. summarizer('...', max_length=13)\n",
      "Summarizing clusters:  65%|█████████████████████████████████████████████████████▌                             | 60/93 [01:52<01:00,  1.82s/it]Your max_length is set to 30, but you input_length is only 12. You might consider decreasing max_length manually, e.g. summarizer('...', max_length=6)\n",
      "Summarizing clusters:  71%|██████████████████████████████████████████████████████████▉                        | 66/93 [02:03<00:51,  1.91s/it]Your max_length is set to 30, but you input_length is only 10. You might consider decreasing max_length manually, e.g. summarizer('...', max_length=5)\n",
      "Summarizing clusters:  73%|████████████████████████████████████████████████████████████▋                      | 68/93 [02:05<00:38,  1.55s/it]Your max_length is set to 30, but you input_length is only 28. You might consider decreasing max_length manually, e.g. summarizer('...', max_length=14)\n",
      "Summarizing clusters:  74%|█████████████████████████████████████████████████████████████▌                     | 69/93 [02:06<00:35,  1.47s/it]Your max_length is set to 30, but you input_length is only 6. You might consider decreasing max_length manually, e.g. summarizer('...', max_length=3)\n",
      "Summarizing clusters:  75%|██████████████████████████████████████████████████████████████▍                    | 70/93 [02:07<00:31,  1.35s/it]Your max_length is set to 30, but you input_length is only 23. You might consider decreasing max_length manually, e.g. summarizer('...', max_length=11)\n",
      "Summarizing clusters:  76%|███████████████████████████████████████████████████████████████▎                   | 71/93 [02:09<00:30,  1.40s/it]Your max_length is set to 30, but you input_length is only 13. You might consider decreasing max_length manually, e.g. summarizer('...', max_length=6)\n",
      "Summarizing clusters:  77%|████████████████████████████████████████████████████████████████▎                  | 72/93 [02:10<00:28,  1.34s/it]Your max_length is set to 30, but you input_length is only 11. You might consider decreasing max_length manually, e.g. summarizer('...', max_length=5)\n",
      "Summarizing clusters:  81%|██████████████████████████████████████████████████████████████████▉                | 75/93 [02:15<00:29,  1.62s/it]Your max_length is set to 30, but you input_length is only 13. You might consider decreasing max_length manually, e.g. summarizer('...', max_length=6)\n",
      "Summarizing clusters:  82%|███████████████████████████████████████████████████████████████████▊               | 76/93 [02:16<00:25,  1.50s/it]Your max_length is set to 30, but you input_length is only 27. You might consider decreasing max_length manually, e.g. summarizer('...', max_length=13)\n",
      "Summarizing clusters:  83%|████████████████████████████████████████████████████████████████████▋              | 77/93 [02:18<00:22,  1.43s/it]Your max_length is set to 30, but you input_length is only 12. You might consider decreasing max_length manually, e.g. summarizer('...', max_length=6)\n",
      "Summarizing clusters:  84%|█████████████████████████████████████████████████████████████████████▌             | 78/93 [02:19<00:21,  1.44s/it]Your max_length is set to 30, but you input_length is only 8. You might consider decreasing max_length manually, e.g. summarizer('...', max_length=4)\n",
      "Summarizing clusters:  85%|██████████████████████████████████████████████████████████████████████▌            | 79/93 [02:20<00:19,  1.41s/it]Your max_length is set to 30, but you input_length is only 12. You might consider decreasing max_length manually, e.g. summarizer('...', max_length=6)\n",
      "Summarizing clusters:  86%|███████████████████████████████████████████████████████████████████████▍           | 80/93 [02:22<00:17,  1.34s/it]Your max_length is set to 30, but you input_length is only 13. You might consider decreasing max_length manually, e.g. summarizer('...', max_length=6)\n",
      "Summarizing clusters:  87%|████████████████████████████████████████████████████████████████████████▎          | 81/93 [02:23<00:15,  1.32s/it]Your max_length is set to 30, but you input_length is only 7. You might consider decreasing max_length manually, e.g. summarizer('...', max_length=3)\n",
      "Summarizing clusters:  88%|█████████████████████████████████████████████████████████████████████████▏         | 82/93 [02:24<00:14,  1.33s/it]Your max_length is set to 30, but you input_length is only 14. You might consider decreasing max_length manually, e.g. summarizer('...', max_length=7)\n"
     ]
    },
    {
     "name": "stderr",
     "output_type": "stream",
     "text": [
      "Summarizing clusters:  89%|██████████████████████████████████████████████████████████████████████████         | 83/93 [02:26<00:13,  1.34s/it]Your max_length is set to 30, but you input_length is only 8. You might consider decreasing max_length manually, e.g. summarizer('...', max_length=4)\n",
      "Summarizing clusters:  90%|██████████████████████████████████████████████████████████████████████████▉        | 84/93 [02:27<00:11,  1.27s/it]Your max_length is set to 30, but you input_length is only 8. You might consider decreasing max_length manually, e.g. summarizer('...', max_length=4)\n",
      "Summarizing clusters:  91%|███████████████████████████████████████████████████████████████████████████▊       | 85/93 [02:28<00:09,  1.21s/it]Your max_length is set to 30, but you input_length is only 11. You might consider decreasing max_length manually, e.g. summarizer('...', max_length=5)\n",
      "Summarizing clusters:  92%|████████████████████████████████████████████████████████████████████████████▊      | 86/93 [02:29<00:08,  1.28s/it]Your max_length is set to 30, but you input_length is only 15. You might consider decreasing max_length manually, e.g. summarizer('...', max_length=7)\n",
      "Summarizing clusters:  94%|█████████████████████████████████████████████████████████████████████████████▋     | 87/93 [02:30<00:07,  1.21s/it]Your max_length is set to 30, but you input_length is only 7. You might consider decreasing max_length manually, e.g. summarizer('...', max_length=3)\n",
      "Summarizing clusters:  95%|██████████████████████████████████████████████████████████████████████████████▌    | 88/93 [02:32<00:06,  1.22s/it]Your max_length is set to 30, but you input_length is only 11. You might consider decreasing max_length manually, e.g. summarizer('...', max_length=5)\n",
      "Summarizing clusters:  96%|███████████████████████████████████████████████████████████████████████████████▍   | 89/93 [02:33<00:04,  1.21s/it]Your max_length is set to 30, but you input_length is only 21. You might consider decreasing max_length manually, e.g. summarizer('...', max_length=10)\n",
      "Summarizing clusters:  97%|████████████████████████████████████████████████████████████████████████████████▎  | 90/93 [02:34<00:03,  1.28s/it]Your max_length is set to 30, but you input_length is only 13. You might consider decreasing max_length manually, e.g. summarizer('...', max_length=6)\n",
      "Summarizing clusters:  98%|█████████████████████████████████████████████████████████████████████████████████▏ | 91/93 [02:35<00:02,  1.30s/it]Your max_length is set to 30, but you input_length is only 12. You might consider decreasing max_length manually, e.g. summarizer('...', max_length=6)\n",
      "Summarizing clusters:  99%|██████████████████████████████████████████████████████████████████████████████████ | 92/93 [02:37<00:01,  1.27s/it]Your max_length is set to 30, but you input_length is only 12. You might consider decreasing max_length manually, e.g. summarizer('...', max_length=6)\n",
      "Summarizing clusters: 100%|███████████████████████████████████████████████████████████████████████████████████| 93/93 [02:38<00:00,  1.71s/it]\n"
     ]
    },
    {
     "name": "stdout",
     "output_type": "stream",
     "text": [
      "Processing responses for question 7\n",
      "0.119003326\n"
     ]
    },
    {
     "name": "stderr",
     "output_type": "stream",
     "text": [
      "Summarizing clusters:   0%|                                                                                            | 0/28 [00:00<?, ?it/s]Your max_length is set to 30, but you input_length is only 9. You might consider decreasing max_length manually, e.g. summarizer('...', max_length=4)\n",
      "Summarizing clusters:   4%|███                                                                                 | 1/28 [00:01<00:36,  1.35s/it]Your max_length is set to 30, but you input_length is only 10. You might consider decreasing max_length manually, e.g. summarizer('...', max_length=5)\n",
      "Summarizing clusters:  14%|████████████                                                                        | 4/28 [00:06<00:37,  1.58s/it]Your max_length is set to 30, but you input_length is only 13. You might consider decreasing max_length manually, e.g. summarizer('...', max_length=6)\n",
      "Summarizing clusters:  29%|████████████████████████                                                            | 8/28 [00:13<00:37,  1.87s/it]Your max_length is set to 30, but you input_length is only 28. You might consider decreasing max_length manually, e.g. summarizer('...', max_length=14)\n",
      "Summarizing clusters:  50%|█████████████████████████████████████████▌                                         | 14/28 [00:25<00:24,  1.75s/it]Your max_length is set to 30, but you input_length is only 23. You might consider decreasing max_length manually, e.g. summarizer('...', max_length=11)\n",
      "Summarizing clusters:  54%|████████████████████████████████████████████▍                                      | 15/28 [00:26<00:20,  1.60s/it]Your max_length is set to 30, but you input_length is only 10. You might consider decreasing max_length manually, e.g. summarizer('...', max_length=5)\n",
      "Summarizing clusters:  57%|███████████████████████████████████████████████▍                                   | 16/28 [00:27<00:17,  1.43s/it]Your max_length is set to 30, but you input_length is only 4. You might consider decreasing max_length manually, e.g. summarizer('...', max_length=2)\n",
      "Summarizing clusters:  61%|██████████████████████████████████████████████████▍                                | 17/28 [00:28<00:15,  1.37s/it]Your max_length is set to 30, but you input_length is only 13. You might consider decreasing max_length manually, e.g. summarizer('...', max_length=6)\n",
      "Summarizing clusters:  64%|█████████████████████████████████████████████████████▎                             | 18/28 [00:30<00:13,  1.34s/it]Your max_length is set to 30, but you input_length is only 15. You might consider decreasing max_length manually, e.g. summarizer('...', max_length=7)\n",
      "Summarizing clusters:  68%|████████████████████████████████████████████████████████▎                          | 19/28 [00:31<00:11,  1.30s/it]Your max_length is set to 30, but you input_length is only 13. You might consider decreasing max_length manually, e.g. summarizer('...', max_length=6)\n",
      "Summarizing clusters:  71%|███████████████████████████████████████████████████████████▎                       | 20/28 [00:32<00:10,  1.31s/it]Your max_length is set to 30, but you input_length is only 20. You might consider decreasing max_length manually, e.g. summarizer('...', max_length=10)\n",
      "Summarizing clusters:  75%|██████████████████████████████████████████████████████████████▎                    | 21/28 [00:33<00:09,  1.29s/it]Your max_length is set to 30, but you input_length is only 11. You might consider decreasing max_length manually, e.g. summarizer('...', max_length=5)\n",
      "Summarizing clusters:  79%|█████████████████████████████████████████████████████████████████▏                 | 22/28 [00:34<00:07,  1.21s/it]Your max_length is set to 30, but you input_length is only 10. You might consider decreasing max_length manually, e.g. summarizer('...', max_length=5)\n",
      "Summarizing clusters:  82%|████████████████████████████████████████████████████████████████████▏              | 23/28 [00:36<00:06,  1.23s/it]Your max_length is set to 30, but you input_length is only 8. You might consider decreasing max_length manually, e.g. summarizer('...', max_length=4)\n",
      "Summarizing clusters:  86%|███████████████████████████████████████████████████████████████████████▏           | 24/28 [00:37<00:04,  1.22s/it]Your max_length is set to 30, but you input_length is only 8. You might consider decreasing max_length manually, e.g. summarizer('...', max_length=4)\n",
      "Summarizing clusters:  89%|██████████████████████████████████████████████████████████████████████████         | 25/28 [00:38<00:03,  1.18s/it]Your max_length is set to 30, but you input_length is only 14. You might consider decreasing max_length manually, e.g. summarizer('...', max_length=7)\n",
      "Summarizing clusters:  93%|█████████████████████████████████████████████████████████████████████████████      | 26/28 [00:39<00:02,  1.21s/it]Your max_length is set to 30, but you input_length is only 19. You might consider decreasing max_length manually, e.g. summarizer('...', max_length=9)\n",
      "Summarizing clusters:  96%|████████████████████████████████████████████████████████████████████████████████   | 27/28 [00:40<00:01,  1.18s/it]Your max_length is set to 30, but you input_length is only 9. You might consider decreasing max_length manually, e.g. summarizer('...', max_length=4)\n",
      "Summarizing clusters: 100%|███████████████████████████████████████████████████████████████████████████████████| 28/28 [00:42<00:00,  1.53s/it]\n"
     ]
    },
    {
     "name": "stdout",
     "output_type": "stream",
     "text": [
      "Processing responses for question 17\n",
      "0.16059878\n"
     ]
    },
    {
     "name": "stderr",
     "output_type": "stream",
     "text": [
      "Summarizing clusters:   8%|███████                                                                             | 1/12 [00:01<00:15,  1.45s/it]Your max_length is set to 30, but you input_length is only 21. You might consider decreasing max_length manually, e.g. summarizer('...', max_length=10)\n",
      "Summarizing clusters:  25%|█████████████████████                                                               | 3/12 [00:04<00:14,  1.56s/it]Your max_length is set to 30, but you input_length is only 28. You might consider decreasing max_length manually, e.g. summarizer('...', max_length=14)\n",
      "Summarizing clusters:  33%|████████████████████████████                                                        | 4/12 [00:06<00:12,  1.59s/it]Your max_length is set to 30, but you input_length is only 23. You might consider decreasing max_length manually, e.g. summarizer('...', max_length=11)\n",
      "Summarizing clusters:  42%|███████████████████████████████████                                                 | 5/12 [00:07<00:09,  1.42s/it]Your max_length is set to 30, but you input_length is only 9. You might consider decreasing max_length manually, e.g. summarizer('...', max_length=4)\n",
      "Summarizing clusters:  50%|██████████████████████████████████████████                                          | 6/12 [00:08<00:08,  1.37s/it]Your max_length is set to 30, but you input_length is only 20. You might consider decreasing max_length manually, e.g. summarizer('...', max_length=10)\n",
      "Summarizing clusters:  58%|█████████████████████████████████████████████████                                   | 7/12 [00:09<00:06,  1.33s/it]Your max_length is set to 30, but you input_length is only 12. You might consider decreasing max_length manually, e.g. summarizer('...', max_length=6)\n",
      "Summarizing clusters:  67%|████████████████████████████████████████████████████████                            | 8/12 [00:11<00:05,  1.31s/it]Your max_length is set to 30, but you input_length is only 14. You might consider decreasing max_length manually, e.g. summarizer('...', max_length=7)\n",
      "Summarizing clusters:  75%|███████████████████████████████████████████████████████████████                     | 9/12 [00:12<00:03,  1.28s/it]Your max_length is set to 30, but you input_length is only 8. You might consider decreasing max_length manually, e.g. summarizer('...', max_length=4)\n",
      "Summarizing clusters:  83%|█████████████████████████████████████████████████████████████████████▏             | 10/12 [00:13<00:02,  1.19s/it]Your max_length is set to 30, but you input_length is only 20. You might consider decreasing max_length manually, e.g. summarizer('...', max_length=10)\n",
      "Summarizing clusters:  92%|████████████████████████████████████████████████████████████████████████████       | 11/12 [00:15<00:01,  1.42s/it]Your max_length is set to 30, but you input_length is only 14. You might consider decreasing max_length manually, e.g. summarizer('...', max_length=7)\n",
      "Summarizing clusters: 100%|███████████████████████████████████████████████████████████████████████████████████| 12/12 [00:16<00:00,  1.37s/it]\n"
     ]
    },
    {
     "name": "stdout",
     "output_type": "stream",
     "text": [
      "Processing responses for question 9\n",
      "0.11876916\n"
     ]
    },
    {
     "name": "stderr",
     "output_type": "stream",
     "text": [
      "Summarizing clusters:  13%|███████████▏                                                                        | 2/15 [00:05<00:32,  2.49s/it]Your max_length is set to 30, but you input_length is only 29. You might consider decreasing max_length manually, e.g. summarizer('...', max_length=14)\n",
      "Summarizing clusters:  40%|█████████████████████████████████▌                                                  | 6/15 [00:13<00:19,  2.18s/it]Your max_length is set to 30, but you input_length is only 18. You might consider decreasing max_length manually, e.g. summarizer('...', max_length=9)\n",
      "Summarizing clusters:  47%|███████████████████████████████████████▏                                            | 7/15 [00:14<00:14,  1.87s/it]Your max_length is set to 30, but you input_length is only 8. You might consider decreasing max_length manually, e.g. summarizer('...', max_length=4)\n",
      "Summarizing clusters:  53%|████████████████████████████████████████████▊                                       | 8/15 [00:16<00:12,  1.75s/it]Your max_length is set to 30, but you input_length is only 22. You might consider decreasing max_length manually, e.g. summarizer('...', max_length=11)\n",
      "Summarizing clusters:  60%|██████████████████████████████████████████████████▍                                 | 9/15 [00:18<00:11,  1.86s/it]Your max_length is set to 30, but you input_length is only 15. You might consider decreasing max_length manually, e.g. summarizer('...', max_length=7)\n",
      "Summarizing clusters:  67%|███████████████████████████████████████████████████████▎                           | 10/15 [00:19<00:08,  1.70s/it]Your max_length is set to 30, but you input_length is only 4. You might consider decreasing max_length manually, e.g. summarizer('...', max_length=2)\n",
      "Summarizing clusters:  73%|████████████████████████████████████████████████████████████▊                      | 11/15 [00:20<00:06,  1.51s/it]Your max_length is set to 30, but you input_length is only 20. You might consider decreasing max_length manually, e.g. summarizer('...', max_length=10)\n",
      "Summarizing clusters:  80%|██████████████████████████████████████████████████████████████████▍                | 12/15 [00:22<00:04,  1.56s/it]Your max_length is set to 30, but you input_length is only 10. You might consider decreasing max_length manually, e.g. summarizer('...', max_length=5)\n",
      "Summarizing clusters:  87%|███████████████████████████████████████████████████████████████████████▉           | 13/15 [00:23<00:02,  1.44s/it]Your max_length is set to 30, but you input_length is only 4. You might consider decreasing max_length manually, e.g. summarizer('...', max_length=2)\n",
      "Summarizing clusters:  93%|█████████████████████████████████████████████████████████████████████████████▍     | 14/15 [00:24<00:01,  1.39s/it]Your max_length is set to 30, but you input_length is only 5. You might consider decreasing max_length manually, e.g. summarizer('...', max_length=2)\n",
      "Summarizing clusters: 100%|███████████████████████████████████████████████████████████████████████████████████| 15/15 [00:25<00:00,  1.72s/it]\n"
     ]
    }
   ],
   "source": [
    "for question_number, responses in question_answers.items():\n",
    "    q_texts = [r.text for r in responses]\n",
    "    print(\"Processing responses for question\", question_number)\n",
    "    sentence_level_analysis(question_number, q_texts, 0.7, 'complete')\n"
   ]
  },
  {
   "cell_type": "code",
   "execution_count": 29,
   "id": "cdb7831c",
   "metadata": {},
   "outputs": [
    {
     "name": "stdout",
     "output_type": "stream",
     "text": [
      "Processing responses for question 19\n",
      "0.11434844\n"
     ]
    },
    {
     "name": "stderr",
     "output_type": "stream",
     "text": [
      "Summarizing clusters:   5%|████▍                                                                               | 1/19 [00:01<00:33,  1.88s/it]Your max_length is set to 30, but you input_length is only 20. You might consider decreasing max_length manually, e.g. summarizer('...', max_length=10)\n",
      "Summarizing clusters:  84%|█████████████████████████████████████████████████████████████████████▉             | 16/19 [00:38<00:06,  2.16s/it]Your max_length is set to 30, but you input_length is only 23. You might consider decreasing max_length manually, e.g. summarizer('...', max_length=11)\n",
      "Summarizing clusters:  89%|██████████████████████████████████████████████████████████████████████████▎        | 17/19 [00:40<00:03,  1.97s/it]Your max_length is set to 30, but you input_length is only 23. You might consider decreasing max_length manually, e.g. summarizer('...', max_length=11)\n",
      "Summarizing clusters:  95%|██████████████████████████████████████████████████████████████████████████████▋    | 18/19 [00:41<00:01,  1.79s/it]Your max_length is set to 30, but you input_length is only 8. You might consider decreasing max_length manually, e.g. summarizer('...', max_length=4)\n",
      "Summarizing clusters: 100%|███████████████████████████████████████████████████████████████████████████████████| 19/19 [00:43<00:00,  2.26s/it]\n"
     ]
    },
    {
     "name": "stdout",
     "output_type": "stream",
     "text": [
      "Processing responses for question 20\n",
      "0.07048876\n"
     ]
    },
    {
     "name": "stderr",
     "output_type": "stream",
     "text": [
      "Summarizing clusters:  89%|█████████████████████████████████████████████████████████████████████████▊         | 16/18 [00:36<00:04,  2.05s/it]Your max_length is set to 30, but you input_length is only 15. You might consider decreasing max_length manually, e.g. summarizer('...', max_length=7)\n",
      "Summarizing clusters: 100%|███████████████████████████████████████████████████████████████████████████████████| 18/18 [00:40<00:00,  2.24s/it]\n"
     ]
    },
    {
     "name": "stdout",
     "output_type": "stream",
     "text": [
      "Processing responses for question 10\n",
      "0.1052975\n"
     ]
    },
    {
     "name": "stderr",
     "output_type": "stream",
     "text": [
      "Summarizing clusters:   0%|                                                                                            | 0/19 [00:00<?, ?it/s]Your max_length is set to 30, but you input_length is only 23. You might consider decreasing max_length manually, e.g. summarizer('...', max_length=11)\n",
      "Summarizing clusters:  79%|█████████████████████████████████████████████████████████████████▌                 | 15/19 [00:34<00:08,  2.18s/it]Your max_length is set to 30, but you input_length is only 26. You might consider decreasing max_length manually, e.g. summarizer('...', max_length=13)\n",
      "Summarizing clusters:  84%|█████████████████████████████████████████████████████████████████████▉             | 16/19 [00:35<00:05,  1.89s/it]Your max_length is set to 30, but you input_length is only 16. You might consider decreasing max_length manually, e.g. summarizer('...', max_length=8)\n",
      "Summarizing clusters:  89%|██████████████████████████████████████████████████████████████████████████▎        | 17/19 [00:36<00:03,  1.78s/it]Your max_length is set to 30, but you input_length is only 11. You might consider decreasing max_length manually, e.g. summarizer('...', max_length=5)\n",
      "Summarizing clusters:  95%|██████████████████████████████████████████████████████████████████████████████▋    | 18/19 [00:38<00:01,  1.68s/it]Your max_length is set to 30, but you input_length is only 10. You might consider decreasing max_length manually, e.g. summarizer('...', max_length=5)\n",
      "Summarizing clusters: 100%|███████████████████████████████████████████████████████████████████████████████████| 19/19 [00:39<00:00,  2.07s/it]\n"
     ]
    },
    {
     "name": "stdout",
     "output_type": "stream",
     "text": [
      "Processing responses for question 11\n",
      "0.11137779\n"
     ]
    },
    {
     "name": "stderr",
     "output_type": "stream",
     "text": [
      "Summarizing clusters:  89%|█████████████████████████████████████████████████████████████████████████▊         | 16/18 [00:38<00:03,  1.96s/it]Your max_length is set to 30, but you input_length is only 11. You might consider decreasing max_length manually, e.g. summarizer('...', max_length=5)\n",
      "Summarizing clusters: 100%|███████████████████████████████████████████████████████████████████████████████████| 18/18 [00:41<00:00,  2.31s/it]\n"
     ]
    },
    {
     "name": "stdout",
     "output_type": "stream",
     "text": [
      "Processing responses for question 14\n",
      "0.10970743\n"
     ]
    },
    {
     "name": "stderr",
     "output_type": "stream",
     "text": [
      "Summarizing clusters:  39%|████████████████████████████████▌                                                  | 11/28 [00:22<00:28,  1.70s/it]Your max_length is set to 30, but you input_length is only 25. You might consider decreasing max_length manually, e.g. summarizer('...', max_length=12)\n",
      "Summarizing clusters:  71%|███████████████████████████████████████████████████████████▎                       | 20/28 [00:45<00:18,  2.28s/it]Your max_length is set to 30, but you input_length is only 27. You might consider decreasing max_length manually, e.g. summarizer('...', max_length=13)\n",
      "Summarizing clusters:  79%|█████████████████████████████████████████████████████████████████▏                 | 22/28 [00:48<00:12,  2.14s/it]Your max_length is set to 30, but you input_length is only 14. You might consider decreasing max_length manually, e.g. summarizer('...', max_length=7)\n",
      "Summarizing clusters:  89%|██████████████████████████████████████████████████████████████████████████         | 25/28 [00:53<00:05,  1.94s/it]Your max_length is set to 30, but you input_length is only 9. You might consider decreasing max_length manually, e.g. summarizer('...', max_length=4)\n",
      "Summarizing clusters:  93%|█████████████████████████████████████████████████████████████████████████████      | 26/28 [00:55<00:03,  1.73s/it]Your max_length is set to 30, but you input_length is only 13. You might consider decreasing max_length manually, e.g. summarizer('...', max_length=6)\n",
      "Summarizing clusters:  96%|████████████████████████████████████████████████████████████████████████████████   | 27/28 [00:56<00:01,  1.63s/it]Your max_length is set to 30, but you input_length is only 18. You might consider decreasing max_length manually, e.g. summarizer('...', max_length=9)\n",
      "Summarizing clusters: 100%|███████████████████████████████████████████████████████████████████████████████████| 28/28 [00:57<00:00,  2.06s/it]\n"
     ]
    },
    {
     "name": "stdout",
     "output_type": "stream",
     "text": [
      "Processing responses for question 18\n",
      "0.1511304\n"
     ]
    },
    {
     "name": "stderr",
     "output_type": "stream",
     "text": [
      "Summarizing clusters:  90%|███████████████████████████████████████████████████████████████████████████▌        | 9/10 [00:16<00:01,  1.86s/it]Your max_length is set to 30, but you input_length is only 18. You might consider decreasing max_length manually, e.g. summarizer('...', max_length=9)\n",
      "Summarizing clusters: 100%|███████████████████████████████████████████████████████████████████████████████████| 10/10 [00:17<00:00,  1.77s/it]\n"
     ]
    },
    {
     "name": "stdout",
     "output_type": "stream",
     "text": [
      "Processing responses for question 21\n",
      "0.1011382\n"
     ]
    },
    {
     "name": "stderr",
     "output_type": "stream",
     "text": [
      "Summarizing clusters:   0%|                                                                                            | 0/26 [00:00<?, ?it/s]Your max_length is set to 30, but you input_length is only 28. You might consider decreasing max_length manually, e.g. summarizer('...', max_length=14)\n",
      "Summarizing clusters:  88%|█████████████████████████████████████████████████████████████████████████▍         | 23/26 [00:44<00:05,  1.69s/it]Your max_length is set to 30, but you input_length is only 29. You might consider decreasing max_length manually, e.g. summarizer('...', max_length=14)\n",
      "Summarizing clusters:  92%|████████████████████████████████████████████████████████████████████████████▌      | 24/26 [00:45<00:03,  1.54s/it]Your max_length is set to 30, but you input_length is only 10. You might consider decreasing max_length manually, e.g. summarizer('...', max_length=5)\n",
      "Summarizing clusters:  96%|███████████████████████████████████████████████████████████████████████████████▊   | 25/26 [00:47<00:01,  1.42s/it]Your max_length is set to 30, but you input_length is only 15. You might consider decreasing max_length manually, e.g. summarizer('...', max_length=7)\n",
      "Summarizing clusters: 100%|███████████████████████████████████████████████████████████████████████████████████| 26/26 [00:48<00:00,  1.86s/it]\n"
     ]
    },
    {
     "name": "stdout",
     "output_type": "stream",
     "text": [
      "Processing responses for question 12\n",
      "0.08093963\n"
     ]
    },
    {
     "name": "stderr",
     "output_type": "stream",
     "text": [
      "Summarizing clusters:  11%|████████▊                                                                           | 2/19 [00:05<00:42,  2.52s/it]Your max_length is set to 30, but you input_length is only 21. You might consider decreasing max_length manually, e.g. summarizer('...', max_length=10)\n",
      "Summarizing clusters:  68%|████████████████████████████████████████████████████████▊                          | 13/19 [00:29<00:12,  2.06s/it]Your max_length is set to 30, but you input_length is only 13. You might consider decreasing max_length manually, e.g. summarizer('...', max_length=6)\n",
      "Summarizing clusters: 100%|███████████████████████████████████████████████████████████████████████████████████| 19/19 [00:39<00:00,  2.06s/it]\n"
     ]
    },
    {
     "name": "stdout",
     "output_type": "stream",
     "text": [
      "Processing responses for question 13\n",
      "0.11811813\n"
     ]
    },
    {
     "name": "stderr",
     "output_type": "stream",
     "text": [
      "Summarizing clusters:  11%|█████████▎                                                                          | 2/18 [00:04<00:36,  2.28s/it]Your max_length is set to 30, but you input_length is only 21. You might consider decreasing max_length manually, e.g. summarizer('...', max_length=10)\n",
      "Summarizing clusters:  17%|██████████████                                                                      | 3/18 [00:06<00:31,  2.11s/it]Your max_length is set to 30, but you input_length is only 24. You might consider decreasing max_length manually, e.g. summarizer('...', max_length=12)\n",
      "Summarizing clusters:  78%|████████████████████████████████████████████████████████████████▌                  | 14/18 [00:29<00:07,  1.88s/it]Your max_length is set to 30, but you input_length is only 27. You might consider decreasing max_length manually, e.g. summarizer('...', max_length=13)\n",
      "Summarizing clusters:  94%|██████████████████████████████████████████████████████████████████████████████▍    | 17/18 [00:34<00:01,  1.68s/it]Your max_length is set to 30, but you input_length is only 15. You might consider decreasing max_length manually, e.g. summarizer('...', max_length=7)\n",
      "Summarizing clusters: 100%|███████████████████████████████████████████████████████████████████████████████████| 18/18 [00:35<00:00,  1.97s/it]\n"
     ]
    },
    {
     "name": "stdout",
     "output_type": "stream",
     "text": [
      "Processing responses for question 23\n",
      "0.10809209\n"
     ]
    },
    {
     "name": "stderr",
     "output_type": "stream",
     "text": [
      "Summarizing clusters:   3%|██▍                                                                                 | 1/35 [00:02<01:24,  2.49s/it]Your max_length is set to 30, but you input_length is only 13. You might consider decreasing max_length manually, e.g. summarizer('...', max_length=6)\n",
      "Summarizing clusters:  14%|████████████                                                                        | 5/35 [00:10<01:03,  2.11s/it]Your max_length is set to 30, but you input_length is only 27. You might consider decreasing max_length manually, e.g. summarizer('...', max_length=13)\n",
      "Summarizing clusters:  60%|█████████████████████████████████████████████████▊                                 | 21/35 [00:51<00:35,  2.55s/it]Your max_length is set to 30, but you input_length is only 10. You might consider decreasing max_length manually, e.g. summarizer('...', max_length=5)\n",
      "Summarizing clusters:  77%|████████████████████████████████████████████████████████████████                   | 27/35 [01:05<00:21,  2.63s/it]Your max_length is set to 30, but you input_length is only 27. You might consider decreasing max_length manually, e.g. summarizer('...', max_length=13)\n",
      "Summarizing clusters:  86%|███████████████████████████████████████████████████████████████████████▏           | 30/35 [01:10<00:09,  1.92s/it]Your max_length is set to 30, but you input_length is only 18. You might consider decreasing max_length manually, e.g. summarizer('...', max_length=9)\n",
      "Summarizing clusters:  91%|███████████████████████████████████████████████████████████████████████████▉       | 32/35 [01:14<00:05,  1.88s/it]Your max_length is set to 30, but you input_length is only 23. You might consider decreasing max_length manually, e.g. summarizer('...', max_length=11)\n",
      "Summarizing clusters:  94%|██████████████████████████████████████████████████████████████████████████████▎    | 33/35 [01:15<00:03,  1.70s/it]Your max_length is set to 30, but you input_length is only 6. You might consider decreasing max_length manually, e.g. summarizer('...', max_length=3)\n",
      "Summarizing clusters:  97%|████████████████████████████████████████████████████████████████████████████████▋  | 34/35 [01:16<00:01,  1.52s/it]Your max_length is set to 30, but you input_length is only 23. You might consider decreasing max_length manually, e.g. summarizer('...', max_length=11)\n",
      "Summarizing clusters: 100%|███████████████████████████████████████████████████████████████████████████████████| 35/35 [01:18<00:00,  2.23s/it]\n"
     ]
    },
    {
     "name": "stdout",
     "output_type": "stream",
     "text": [
      "Processing responses for question 7\n",
      "0.11450113\n"
     ]
    },
    {
     "name": "stderr",
     "output_type": "stream",
     "text": [
      "Summarizing clusters:   0%|                                                                                            | 0/12 [00:00<?, ?it/s]Your max_length is set to 30, but you input_length is only 27. You might consider decreasing max_length manually, e.g. summarizer('...', max_length=13)\n",
      "Summarizing clusters:  17%|██████████████                                                                      | 2/12 [00:03<00:17,  1.72s/it]Your max_length is set to 30, but you input_length is only 19. You might consider decreasing max_length manually, e.g. summarizer('...', max_length=9)\n",
      "Summarizing clusters:  75%|███████████████████████████████████████████████████████████████                     | 9/12 [00:18<00:06,  2.04s/it]Your max_length is set to 30, but you input_length is only 12. You might consider decreasing max_length manually, e.g. summarizer('...', max_length=6)\n",
      "Summarizing clusters:  92%|████████████████████████████████████████████████████████████████████████████       | 11/12 [00:20<00:01,  1.64s/it]Your max_length is set to 30, but you input_length is only 19. You might consider decreasing max_length manually, e.g. summarizer('...', max_length=9)\n",
      "Summarizing clusters: 100%|███████████████████████████████████████████████████████████████████████████████████| 12/12 [00:21<00:00,  1.80s/it]\n"
     ]
    },
    {
     "name": "stdout",
     "output_type": "stream",
     "text": [
      "Processing responses for question 17\n",
      "0.13288675\n"
     ]
    },
    {
     "name": "stderr",
     "output_type": "stream",
     "text": [
      "Summarizing clusters:   0%|                                                                                             | 0/6 [00:00<?, ?it/s]Your max_length is set to 30, but you input_length is only 9. You might consider decreasing max_length manually, e.g. summarizer('...', max_length=4)\n",
      "Summarizing clusters:  17%|██████████████▏                                                                      | 1/6 [00:01<00:06,  1.34s/it]Your max_length is set to 30, but you input_length is only 20. You might consider decreasing max_length manually, e.g. summarizer('...', max_length=10)\n",
      "Summarizing clusters:  83%|██████████████████████████████████████████████████████████████████████▊              | 5/6 [00:08<00:01,  1.84s/it]Your max_length is set to 30, but you input_length is only 20. You might consider decreasing max_length manually, e.g. summarizer('...', max_length=10)\n",
      "Summarizing clusters: 100%|█████████████████████████████████████████████████████████████████████████████████████| 6/6 [00:10<00:00,  1.74s/it]\n"
     ]
    },
    {
     "name": "stdout",
     "output_type": "stream",
     "text": [
      "Processing responses for question 9\n",
      "0.103431344\n"
     ]
    },
    {
     "name": "stderr",
     "output_type": "stream",
     "text": [
      "Summarizing clusters:  50%|██████████████████████████████████████████▌                                          | 3/6 [00:06<00:06,  2.05s/it]Your max_length is set to 30, but you input_length is only 11. You might consider decreasing max_length manually, e.g. summarizer('...', max_length=5)\n",
      "Summarizing clusters: 100%|█████████████████████████████████████████████████████████████████████████████████████| 6/6 [00:11<00:00,  1.97s/it]\n"
     ]
    }
   ],
   "source": [
    "for question_number, responses in question_answers.items():\n",
    "    q_texts = [r.text for r in responses]\n",
    "    print(\"Processing responses for question\", question_number)\n",
    "    sentence_level_analysis(question_number, q_texts, 0.9, 'complete')"
   ]
  }
 ],
 "metadata": {
  "kernelspec": {
   "display_name": "Python 3 (ipykernel)",
   "language": "python",
   "name": "python3"
  },
  "language_info": {
   "codemirror_mode": {
    "name": "ipython",
    "version": 3
   },
   "file_extension": ".py",
   "mimetype": "text/x-python",
   "name": "python",
   "nbconvert_exporter": "python",
   "pygments_lexer": "ipython3",
   "version": "3.11.6"
  }
 },
 "nbformat": 4,
 "nbformat_minor": 5
}
