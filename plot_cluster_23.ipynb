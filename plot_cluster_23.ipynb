{
 "cells": [
  {
   "cell_type": "code",
   "execution_count": null,
   "id": "a0e7593b-9a46-4fe2-af86-15555d0915fe",
   "metadata": {},
   "outputs": [],
   "source": [
    "# get the data ready\n",
    "import yaml\n",
    "\n",
    "with open('/Users/sharpr1/data/accessibility/Clustersquestion23.yml') as f:\n",
    "    cluster_dicts = yaml.safe_load(f)\n",
    "\n",
    "cluster_dicts"
   ]
  },
  {
   "cell_type": "code",
   "execution_count": null,
   "id": "f5645916",
   "metadata": {},
   "outputs": [],
   "source": [
    "import csv\n",
    "datafile = '/Users/sharpr1/github/accessibility/data/write_in_responses.tsv'\n",
    "\n",
    "lines = []\n",
    "with open(datafile) as f:\n",
    "    reader = csv.reader(f, delimiter='\\t')\n",
    "    header = next(reader)\n",
    "    for line in reader:\n",
    "        if len(line) != 13:\n",
    "            print(len(line))\n",
    "        lines.append(line)\n",
    "\n",
    "        from collections import defaultdict, namedtuple\n",
    "\n",
    "import re\n",
    "pattern = 'Question ([0-9]+) - (.+)'\n",
    "question_numbers = []\n",
    "questions = []\n",
    "question_lut = dict()\n",
    "for elem in header:\n",
    "    matched = re.findall(pattern, elem)[0]\n",
    "    question_number = int(matched[0])\n",
    "    question = matched[1]\n",
    "    question_numbers.append(question_number)\n",
    "    questions.append(question)\n",
    "    question_lut[question_number] = question\n",
    "    \n",
    "print(question_numbers)\n",
    "print(questions)\n",
    "        \n",
    "Response = namedtuple('Response', 'row_id text')\n",
    "\n",
    "question_answers = defaultdict(list)\n",
    "# may want to keep the information from the people to correlate with \n",
    "# the data in the other questions (e.g., if the person had a visual \n",
    "# limitation, are they more likely to request visual accomodation?)\n",
    "for row_id, line in enumerate(lines):\n",
    "    for i, resp in enumerate(line):\n",
    "        if resp:\n",
    "            question_answers[question_numbers[i]].append(Response(row_id=row_id, text=resp))\n",
    "\n",
    "question_answers.keys()"
   ]
  },
  {
   "cell_type": "code",
   "execution_count": 4,
   "id": "2bd9d467",
   "metadata": {},
   "outputs": [],
   "source": [
    "import nltk\n",
    "\n",
    "# lookup table from sentence to the speaker id\n",
    "sent_to_spkr = dict()\n",
    "for resp in question_answers[23]:\n",
    "    for sent in nltk.sent_tokenize(resp.text):\n",
    "        sent_to_spkr[sent] = resp.row_id\n"
   ]
  },
  {
   "cell_type": "code",
   "execution_count": 5,
   "id": "570564ca",
   "metadata": {},
   "outputs": [],
   "source": [
    "cluster_speakers = defaultdict(set)\n",
    "cluster_sentences = dict()\n",
    "for cluster_dict in cluster_dicts:\n",
    "    cluster_id = cluster_dict['Cluster']\n",
    "    texts = cluster_dict['text']\n",
    "    cluster_sentences[cluster_id] = len(texts)\n",
    "    for t in texts:\n",
    "        cluster_speakers[cluster_id].add(sent_to_spkr[t])"
   ]
  },
  {
   "cell_type": "code",
   "execution_count": 28,
   "id": "0890c54b",
   "metadata": {},
   "outputs": [
    {
     "data": {
      "text/plain": [
       "[12, 50, 26, 23, 30, 46, 43, 22, 49, 15, 51, 3, 39]"
      ]
     },
     "execution_count": 28,
     "metadata": {},
     "output_type": "execute_result"
    }
   ],
   "source": [
    "keep = []\n",
    "for cluster_id in cluster_sentences.keys():\n",
    "    # At least 3 sentences and at least 3 speakers\n",
    "    if cluster_sentences[cluster_id] > 2 and len(cluster_speakers[cluster_id]) > 2:\n",
    "        keep.append(cluster_id)\n",
    "keep"
   ]
  },
  {
   "cell_type": "code",
   "execution_count": 29,
   "id": "ed7c3a15-fc1b-4133-827d-8173062de18c",
   "metadata": {},
   "outputs": [],
   "source": [
    "from sentence_transformers import SentenceTransformer\n",
    "import numpy as np\n",
    "\n",
    "from sklearn import metrics\n",
    "\n",
    "embedder = SentenceTransformer('all-MiniLM-L6-v2')\n",
    "\n",
    "def embed_corpus(corp: list[str]):\n",
    "    embs = embedder.encode(corp)\n",
    "    # Normalize the embeddings to unit length\n",
    "    embs = embs /  np.linalg.norm(embs, axis=1, keepdims=True)\n",
    "    return embs"
   ]
  },
  {
   "cell_type": "code",
   "execution_count": 30,
   "id": "3ebbbe14-c5fb-4df7-bf14-2cadbbdd2e8b",
   "metadata": {},
   "outputs": [
    {
     "data": {
      "text/plain": [
       "array([[-0.00308866,  0.0394915 ,  0.00235701, ..., -0.02680463,\n",
       "         0.02248044,  0.00947586],\n",
       "       [-0.0956049 ,  0.05416444, -0.03525054, ...,  0.01220011,\n",
       "         0.04418114,  0.03183996],\n",
       "       [-0.02716308,  0.04578754, -0.03397054, ...,  0.01553158,\n",
       "        -0.01575852,  0.01695751],\n",
       "       ...,\n",
       "       [-0.0036354 ,  0.05553281, -0.04812872, ..., -0.02188176,\n",
       "         0.05062082,  0.05234819],\n",
       "       [-0.00743387,  0.03101688, -0.01407413, ..., -0.09320852,\n",
       "        -0.02071895,  0.07265306],\n",
       "       [ 0.10238487, -0.00903662,  0.00362351, ..., -0.01262417,\n",
       "        -0.02636953,  0.0273281 ]], dtype=float32)"
      ]
     },
     "execution_count": 30,
     "metadata": {},
     "output_type": "execute_result"
    }
   ],
   "source": [
    "id_to_cluster = []\n",
    "id_to_sentence = []\n",
    "for cluster_dict in cluster_dicts:\n",
    "    cluster_id = cluster_dict['Cluster']\n",
    "    if cluster_id in keep:\n",
    "        for text in cluster_dict['text']:\n",
    "            id_to_sentence.append(text)\n",
    "            id_to_cluster.append(cluster_id)\n",
    "\n",
    "id_to_sentence[:10]\n",
    "\n",
    "embeds = embed_corpus(id_to_sentence)\n",
    "embeds"
   ]
  },
  {
   "cell_type": "code",
   "execution_count": 31,
   "id": "99f3e9d1-8559-4689-9470-aabdcf1ec701",
   "metadata": {},
   "outputs": [],
   "source": [
    "from sklearn.manifold import TSNE\n",
    "import matplotlib.pyplot as plt\n",
    "%matplotlib inline"
   ]
  },
  {
   "cell_type": "code",
   "execution_count": 32,
   "id": "2f5c48d0-1d62-46b0-b805-378d33ff6623",
   "metadata": {},
   "outputs": [
    {
     "name": "stdout",
     "output_type": "stream",
     "text": [
      "0.19570088386535645\n"
     ]
    }
   ],
   "source": [
    "tsne_model = TSNE(perplexity=50, early_exaggeration=8, n_components=2, n_iter=2500, metric='cosine')\n",
    "new_embs = tsne_model.fit_transform(np.asarray(embeds))\n",
    "print(tsne_model.kl_divergence_)"
   ]
  },
  {
   "cell_type": "code",
   "execution_count": 33,
   "id": "9409531a-694b-4d0f-afb4-812c6bc71bdb",
   "metadata": {},
   "outputs": [
    {
     "data": {
      "text/plain": [
       "True"
      ]
     },
     "execution_count": 33,
     "metadata": {},
     "output_type": "execute_result"
    }
   ],
   "source": [
    "labels = id_to_cluster\n",
    "sents = id_to_sentence\n",
    "len(labels) == len(sents) == len(new_embs)"
   ]
  },
  {
   "cell_type": "code",
   "execution_count": 34,
   "id": "0a87e0ae-c10a-4f20-bfe8-9eb03d15744c",
   "metadata": {},
   "outputs": [],
   "source": [
    "def insert_newlines(string, every=64):\n",
    "    return '\\n'.join(string[i:i+every] for i in range(0, len(string), every))"
   ]
  },
  {
   "cell_type": "code",
   "execution_count": 35,
   "id": "bb894ee2-9ae1-43d3-aaa5-8aa17b9b2d52",
   "metadata": {},
   "outputs": [],
   "source": [
    "def lighten_color(color, amount=0.5):\n",
    "    \"\"\"\n",
    "    Lightens the given color by multiplying (1-luminosity) by the given amount.\n",
    "    Input can be matplotlib color string, hex string, or RGB tuple.\n",
    "\n",
    "    Examples:\n",
    "    >> lighten_color('g', 0.3)\n",
    "    >> lighten_color('#F034A3', 0.6)\n",
    "    >> lighten_color((.3,.55,.1), 0.5)\n",
    "    \"\"\"\n",
    "    import matplotlib.colors as mc\n",
    "    import colorsys\n",
    "    try:\n",
    "        c = mc.cnames[color]\n",
    "    except:\n",
    "        c = color\n",
    "    c = colorsys.rgb_to_hls(*mc.to_rgb(c))\n",
    "    return colorsys.hls_to_rgb(c[0], 1 - amount * (1 - c[1]), c[2])"
   ]
  },
  {
   "cell_type": "code",
   "execution_count": null,
   "id": "fe004dd7-9cc6-4efc-9e49-15617915665a",
   "metadata": {},
   "outputs": [],
   "source": [
    "import random\n",
    "\n",
    "x = []\n",
    "y = []\n",
    "\n",
    "cluster_to_color = list(set(id_to_cluster))\n",
    "\n",
    "colors = ['#e6194b', '#3cb44b', '#ffe119', '#4363d8', '#ff9933', '#911eb4', '#46f0f0', '#f032e6', '#bcf60c', \n",
    "          '#ff99cc', '#008080', '#e6beff', '#9a6324', '#ff6666', '#800000', '#aaffc3', '#808000', '#ffd8b1', \n",
    "          '#000075', '#808080', '#ffffff', '#000000']\n",
    "\n",
    "for value in new_embs:\n",
    "    x.append(value[0])\n",
    "    y.append(value[1])\n",
    "    \n",
    "shown = defaultdict(int)\n",
    "\n",
    "sent_info = defaultdict(list)\n",
    "\n",
    "plt.figure(figsize=(16, 16)) \n",
    "for i in range(len(x)):\n",
    "    cluster_label = labels[i]\n",
    "    cluster_color = colors[cluster_to_color.index(cluster_label)]\n",
    "    plt.scatter(x[i],y[i], c=cluster_color)\n",
    "    sent_info[cluster_label].append(f'{i} -- {sents[i]}')\n",
    "    # ----------\n",
    "    # Uncomment to show the key to which sentence is which dot\n",
    "    # ----------\n",
    "    plt.annotate(insert_newlines(f'{cluster_label}_{i}', 100),\n",
    "                 xy=(x[i], y[i]),\n",
    "                 xytext=(5, 2),\n",
    "                 color=lighten_color(cluster_color, 1.2),\n",
    "                 textcoords='offset points',\n",
    "                 ha='right',\n",
    "                 va='bottom')\n",
    "\n",
    "curr_plt = plt.gcf()\n",
    "curr_plt.savefig('/Users/sharpr1/data/accessibility/new_plot_with_labels.png')\n",
    "plt.show()\n",
    "for k in sent_info:\n",
    "    print(f'Cluster {k}:')\n",
    "    for s in sent_info[k]:\n",
    "        print('\\t',s)\n",
    "    print('')\n"
   ]
  }
 ],
 "metadata": {
  "kernelspec": {
   "display_name": "Python 3 (ipykernel)",
   "language": "python",
   "name": "python3"
  },
  "language_info": {
   "codemirror_mode": {
    "name": "ipython",
    "version": 3
   },
   "file_extension": ".py",
   "mimetype": "text/x-python",
   "name": "python",
   "nbconvert_exporter": "python",
   "pygments_lexer": "ipython3",
   "version": "3.11.6"
  }
 },
 "nbformat": 4,
 "nbformat_minor": 5
}
